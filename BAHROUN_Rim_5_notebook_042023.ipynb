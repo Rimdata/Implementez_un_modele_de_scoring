{
 "cells": [
  {
   "cell_type": "markdown",
   "id": "2ca6a200",
   "metadata": {},
   "source": [
    "<img src=\"OC.png\" width=\"50\" height=\"50\" align=\"left\">    \n",
    "\n",
    "***\n",
    "\n",
    "<center> <font size=\"6\"> <span style='color:Blue'> P7: Implémentez un modèle de scoring </span></font> </center>  \n",
    "\n",
    "***"
   ]
  },
  {
   "cell_type": "markdown",
   "id": "d6381847",
   "metadata": {},
   "source": [
    "<font size=\"3\"> <span style=\"font-size: 1.5em\" > **Partie 2 - 2/2: Modélisation** </span> </font> "
   ]
  },
  {
   "cell_type": "markdown",
   "id": "8e3c02ff",
   "metadata": {},
   "source": [
    "**Contexte**  \n",
    "**Prêt à dépenser** est une société financière qui propose des crédits à la consommation pour des personnes ayant peu ou pas du tout d'historique de prêt.\n",
    "<img src=\"pretadepenser.png\" width=\"200\" height=\"200\">\n",
    "**Mission**   \n",
    "* Construire un modèle de scoring qui donnera une prédiction sur la probabilité de faillite d'un client de façon automatique.\n",
    "* Construire un dashboard interactif à destination des gestionnaires de la relation client permettant d'interpréter les prédictions faites par le modèle, et d’améliorer la connaissance client des chargés de relation client.\n",
    "* Mettre en production le modèle de scoring de prédiction à l’aide d’une API, ainsi que le dashboard interactif qui appelle l’API pour les prédictions."
   ]
  },
  {
   "cell_type": "markdown",
   "id": "2d060a54",
   "metadata": {},
   "source": [
    "Dans ce notebook, nous allons:\n",
    "* Rappeler le modèle choisi et ses performances.\n",
    "* Sauvegarder le modèle. "
   ]
  },
  {
   "cell_type": "markdown",
   "id": "6749c683",
   "metadata": {},
   "source": [
    "# Importation des données et des librairies Python pour DS"
   ]
  },
  {
   "cell_type": "code",
   "execution_count": 29,
   "id": "e4f82eea",
   "metadata": {},
   "outputs": [],
   "source": [
    "# ------------------------------------------\n",
    "# Projet : Implémenter un modèle de scoring\n",
    "# Données: https://www.kaggle.com/c/home-credit-default-risk/data\n",
    "# Auteur : Rim BAHROUN\n",
    "# Date: Avril 2023\n",
    "# OpenClassrooms\n",
    "# -------------------------------------------\n",
    "# importation des librairies Python pour DS\n",
    "# -------------------------------------------\n",
    "import os\n",
    "import csv\n",
    "import numpy as np\n",
    "import pandas as pd\n",
    "import timeit\n",
    "\n",
    "from sklearn.model_selection import train_test_split\n",
    "from sklearn import pipeline\n",
    "from sklearn.preprocessing import StandardScaler\n",
    "from sklearn.linear_model import LogisticRegression\n",
    "from lightgbm import LGBMClassifier\n",
    "from sklearn.metrics import make_scorer, f1_score, fbeta_score, roc_auc_score, roc_curve\n",
    "from sklearn.metrics import accuracy_score, precision_score, recall_score, confusion_matrix, classification_report\n",
    "\n",
    "\n",
    "import matplotlib.pyplot as plt\n",
    "import seaborn as sns\n",
    "\n",
    "import warnings\n",
    "warnings.simplefilter(action='ignore', category=FutureWarning)\n",
    "\n",
    "import mlflow\n",
    "import mlflow.sklearn\n",
    "from mlflow.models.signature import infer_signature"
   ]
  },
  {
   "cell_type": "code",
   "execution_count": 76,
   "id": "ba6fc81b",
   "metadata": {},
   "outputs": [],
   "source": [
    "pd.set_option('display.max_rows', 100)\n",
    "pd.set_option('display.max_columns', 100)"
   ]
  },
  {
   "cell_type": "code",
   "execution_count": 2,
   "id": "978a0022",
   "metadata": {},
   "outputs": [],
   "source": [
    "df = pd.read_csv('data/traited/df_train_35.csv')\n",
    "columns_ = df.columns\n",
    "targets_ = ['Bon_client', 'Client_a_risque']\n",
    "features_ = df.drop(columns=[\"SK_ID_CURR\", 'TARGET']).columns\n",
    "columns_ = df.columns\n",
    "del df"
   ]
  },
  {
   "cell_type": "code",
   "execution_count": 3,
   "id": "e2e10a36",
   "metadata": {},
   "outputs": [
    {
     "name": "stdout",
     "output_type": "stream",
     "text": [
      "(307507, 35)\n"
     ]
    },
    {
     "data": {
      "text/html": [
       "<div>\n",
       "<style scoped>\n",
       "    .dataframe tbody tr th:only-of-type {\n",
       "        vertical-align: middle;\n",
       "    }\n",
       "\n",
       "    .dataframe tbody tr th {\n",
       "        vertical-align: top;\n",
       "    }\n",
       "\n",
       "    .dataframe thead th {\n",
       "        text-align: right;\n",
       "    }\n",
       "</style>\n",
       "<table border=\"1\" class=\"dataframe\">\n",
       "  <thead>\n",
       "    <tr style=\"text-align: right;\">\n",
       "      <th></th>\n",
       "      <th>SK_ID_CURR</th>\n",
       "      <th>TARGET</th>\n",
       "      <th>REGION_POPULATION_RELATIVE</th>\n",
       "      <th>DAYS_BIRTH</th>\n",
       "      <th>DAYS_REGISTRATION</th>\n",
       "      <th>DAYS_ID_PUBLISH</th>\n",
       "      <th>HOUR_APPR_PROCESS_START</th>\n",
       "      <th>EXT_SOURCE_1</th>\n",
       "      <th>EXT_SOURCE_2</th>\n",
       "      <th>EXT_SOURCE_3</th>\n",
       "      <th>...</th>\n",
       "      <th>PREV_NAME_CONTRACT_STATUS_Approved_MEAN</th>\n",
       "      <th>PREV_NAME_PAYMENT_TYPE_Cashthroughthebank_MEAN</th>\n",
       "      <th>PREV_NAME_TYPE_SUITE_nan_MEAN</th>\n",
       "      <th>PREV_NAME_PRODUCT_TYPE_XNA_MEAN</th>\n",
       "      <th>PREV_NAME_SELLER_INDUSTRY_Consumerelectronics_MEAN</th>\n",
       "      <th>PREV_NAME_YIELD_GROUP_high_MEAN</th>\n",
       "      <th>PREV_NAME_YIELD_GROUP_low_normal_MEAN</th>\n",
       "      <th>REFUSED_DAYS_DECISION_MAX</th>\n",
       "      <th>POS_MONTHS_BALANCE_MEAN</th>\n",
       "      <th>CC_AMT_CREDIT_LIMIT_ACTUAL_SUM</th>\n",
       "    </tr>\n",
       "  </thead>\n",
       "  <tbody>\n",
       "    <tr>\n",
       "      <th>0</th>\n",
       "      <td>100002</td>\n",
       "      <td>1.0</td>\n",
       "      <td>0.018801</td>\n",
       "      <td>-9461</td>\n",
       "      <td>-3648.0</td>\n",
       "      <td>-2120</td>\n",
       "      <td>10</td>\n",
       "      <td>0.083037</td>\n",
       "      <td>0.262949</td>\n",
       "      <td>0.139376</td>\n",
       "      <td>...</td>\n",
       "      <td>1.0</td>\n",
       "      <td>0.000000</td>\n",
       "      <td>1.0</td>\n",
       "      <td>1.000000</td>\n",
       "      <td>0.000000</td>\n",
       "      <td>0.0</td>\n",
       "      <td>1.000000</td>\n",
       "      <td>-396.0</td>\n",
       "      <td>-10.000000</td>\n",
       "      <td>3960000.0</td>\n",
       "    </tr>\n",
       "    <tr>\n",
       "      <th>1</th>\n",
       "      <td>100003</td>\n",
       "      <td>0.0</td>\n",
       "      <td>0.003541</td>\n",
       "      <td>-16765</td>\n",
       "      <td>-1186.0</td>\n",
       "      <td>-291</td>\n",
       "      <td>11</td>\n",
       "      <td>0.311267</td>\n",
       "      <td>0.622246</td>\n",
       "      <td>0.535276</td>\n",
       "      <td>...</td>\n",
       "      <td>1.0</td>\n",
       "      <td>0.666667</td>\n",
       "      <td>0.0</td>\n",
       "      <td>0.666667</td>\n",
       "      <td>0.333333</td>\n",
       "      <td>0.0</td>\n",
       "      <td>0.333333</td>\n",
       "      <td>-396.0</td>\n",
       "      <td>-43.785714</td>\n",
       "      <td>3960000.0</td>\n",
       "    </tr>\n",
       "  </tbody>\n",
       "</table>\n",
       "<p>2 rows × 35 columns</p>\n",
       "</div>"
      ],
      "text/plain": [
       "   SK_ID_CURR  TARGET  REGION_POPULATION_RELATIVE  DAYS_BIRTH  \\\n",
       "0      100002     1.0                    0.018801       -9461   \n",
       "1      100003     0.0                    0.003541      -16765   \n",
       "\n",
       "   DAYS_REGISTRATION  DAYS_ID_PUBLISH  HOUR_APPR_PROCESS_START  EXT_SOURCE_1  \\\n",
       "0            -3648.0            -2120                       10      0.083037   \n",
       "1            -1186.0             -291                       11      0.311267   \n",
       "\n",
       "   EXT_SOURCE_2  EXT_SOURCE_3  ...  PREV_NAME_CONTRACT_STATUS_Approved_MEAN  \\\n",
       "0      0.262949      0.139376  ...                                      1.0   \n",
       "1      0.622246      0.535276  ...                                      1.0   \n",
       "\n",
       "   PREV_NAME_PAYMENT_TYPE_Cashthroughthebank_MEAN  \\\n",
       "0                                        0.000000   \n",
       "1                                        0.666667   \n",
       "\n",
       "   PREV_NAME_TYPE_SUITE_nan_MEAN  PREV_NAME_PRODUCT_TYPE_XNA_MEAN  \\\n",
       "0                            1.0                         1.000000   \n",
       "1                            0.0                         0.666667   \n",
       "\n",
       "   PREV_NAME_SELLER_INDUSTRY_Consumerelectronics_MEAN  \\\n",
       "0                                           0.000000    \n",
       "1                                           0.333333    \n",
       "\n",
       "   PREV_NAME_YIELD_GROUP_high_MEAN  PREV_NAME_YIELD_GROUP_low_normal_MEAN  \\\n",
       "0                              0.0                               1.000000   \n",
       "1                              0.0                               0.333333   \n",
       "\n",
       "   REFUSED_DAYS_DECISION_MAX  POS_MONTHS_BALANCE_MEAN  \\\n",
       "0                     -396.0               -10.000000   \n",
       "1                     -396.0               -43.785714   \n",
       "\n",
       "   CC_AMT_CREDIT_LIMIT_ACTUAL_SUM  \n",
       "0                       3960000.0  \n",
       "1                       3960000.0  \n",
       "\n",
       "[2 rows x 35 columns]"
      ]
     },
     "execution_count": 3,
     "metadata": {},
     "output_type": "execute_result"
    }
   ],
   "source": [
    "# depuis le notebooke BAHROUN_Rim_1_notebook_042023, on récupére les datas train et test agrégés avec tous les variables. \n",
    "train_df = pd.read_csv(\"data/traited/df_credit_train_col.csv\", usecols=columns_)\n",
    "train_df = train_df.fillna(train_df.median())\n",
    "print(train_df.shape)\n",
    "train_df.head(2)"
   ]
  },
  {
   "cell_type": "code",
   "execution_count": 4,
   "id": "76878d42",
   "metadata": {},
   "outputs": [
    {
     "name": "stdout",
     "output_type": "stream",
     "text": [
      "(48744, 35)\n"
     ]
    },
    {
     "data": {
      "text/html": [
       "<div>\n",
       "<style scoped>\n",
       "    .dataframe tbody tr th:only-of-type {\n",
       "        vertical-align: middle;\n",
       "    }\n",
       "\n",
       "    .dataframe tbody tr th {\n",
       "        vertical-align: top;\n",
       "    }\n",
       "\n",
       "    .dataframe thead th {\n",
       "        text-align: right;\n",
       "    }\n",
       "</style>\n",
       "<table border=\"1\" class=\"dataframe\">\n",
       "  <thead>\n",
       "    <tr style=\"text-align: right;\">\n",
       "      <th></th>\n",
       "      <th>SK_ID_CURR</th>\n",
       "      <th>TARGET</th>\n",
       "      <th>REGION_POPULATION_RELATIVE</th>\n",
       "      <th>DAYS_BIRTH</th>\n",
       "      <th>DAYS_REGISTRATION</th>\n",
       "      <th>DAYS_ID_PUBLISH</th>\n",
       "      <th>HOUR_APPR_PROCESS_START</th>\n",
       "      <th>EXT_SOURCE_1</th>\n",
       "      <th>EXT_SOURCE_2</th>\n",
       "      <th>EXT_SOURCE_3</th>\n",
       "      <th>...</th>\n",
       "      <th>PREV_NAME_CONTRACT_STATUS_Approved_MEAN</th>\n",
       "      <th>PREV_NAME_PAYMENT_TYPE_Cashthroughthebank_MEAN</th>\n",
       "      <th>PREV_NAME_TYPE_SUITE_nan_MEAN</th>\n",
       "      <th>PREV_NAME_PRODUCT_TYPE_XNA_MEAN</th>\n",
       "      <th>PREV_NAME_SELLER_INDUSTRY_Consumerelectronics_MEAN</th>\n",
       "      <th>PREV_NAME_YIELD_GROUP_high_MEAN</th>\n",
       "      <th>PREV_NAME_YIELD_GROUP_low_normal_MEAN</th>\n",
       "      <th>REFUSED_DAYS_DECISION_MAX</th>\n",
       "      <th>POS_MONTHS_BALANCE_MEAN</th>\n",
       "      <th>CC_AMT_CREDIT_LIMIT_ACTUAL_SUM</th>\n",
       "    </tr>\n",
       "  </thead>\n",
       "  <tbody>\n",
       "    <tr>\n",
       "      <th>0</th>\n",
       "      <td>100001</td>\n",
       "      <td>NaN</td>\n",
       "      <td>0.018850</td>\n",
       "      <td>-19241</td>\n",
       "      <td>-5170.0</td>\n",
       "      <td>-812</td>\n",
       "      <td>18</td>\n",
       "      <td>0.752614</td>\n",
       "      <td>0.789654</td>\n",
       "      <td>0.159520</td>\n",
       "      <td>...</td>\n",
       "      <td>1.0</td>\n",
       "      <td>1.0</td>\n",
       "      <td>0.0</td>\n",
       "      <td>1.0</td>\n",
       "      <td>0.0</td>\n",
       "      <td>1.0</td>\n",
       "      <td>0.0</td>\n",
       "      <td>-396.0</td>\n",
       "      <td>-72.555556</td>\n",
       "      <td>3960000.0</td>\n",
       "    </tr>\n",
       "    <tr>\n",
       "      <th>1</th>\n",
       "      <td>100005</td>\n",
       "      <td>NaN</td>\n",
       "      <td>0.035792</td>\n",
       "      <td>-18064</td>\n",
       "      <td>-9118.0</td>\n",
       "      <td>-1623</td>\n",
       "      <td>9</td>\n",
       "      <td>0.564990</td>\n",
       "      <td>0.291656</td>\n",
       "      <td>0.432962</td>\n",
       "      <td>...</td>\n",
       "      <td>0.5</td>\n",
       "      <td>0.5</td>\n",
       "      <td>1.0</td>\n",
       "      <td>1.0</td>\n",
       "      <td>0.0</td>\n",
       "      <td>0.5</td>\n",
       "      <td>0.0</td>\n",
       "      <td>-396.0</td>\n",
       "      <td>-20.000000</td>\n",
       "      <td>3960000.0</td>\n",
       "    </tr>\n",
       "  </tbody>\n",
       "</table>\n",
       "<p>2 rows × 35 columns</p>\n",
       "</div>"
      ],
      "text/plain": [
       "   SK_ID_CURR  TARGET  REGION_POPULATION_RELATIVE  DAYS_BIRTH  \\\n",
       "0      100001     NaN                    0.018850      -19241   \n",
       "1      100005     NaN                    0.035792      -18064   \n",
       "\n",
       "   DAYS_REGISTRATION  DAYS_ID_PUBLISH  HOUR_APPR_PROCESS_START  EXT_SOURCE_1  \\\n",
       "0            -5170.0             -812                       18      0.752614   \n",
       "1            -9118.0            -1623                        9      0.564990   \n",
       "\n",
       "   EXT_SOURCE_2  EXT_SOURCE_3  ...  PREV_NAME_CONTRACT_STATUS_Approved_MEAN  \\\n",
       "0      0.789654      0.159520  ...                                      1.0   \n",
       "1      0.291656      0.432962  ...                                      0.5   \n",
       "\n",
       "   PREV_NAME_PAYMENT_TYPE_Cashthroughthebank_MEAN  \\\n",
       "0                                             1.0   \n",
       "1                                             0.5   \n",
       "\n",
       "   PREV_NAME_TYPE_SUITE_nan_MEAN  PREV_NAME_PRODUCT_TYPE_XNA_MEAN  \\\n",
       "0                            0.0                              1.0   \n",
       "1                            1.0                              1.0   \n",
       "\n",
       "   PREV_NAME_SELLER_INDUSTRY_Consumerelectronics_MEAN  \\\n",
       "0                                                0.0    \n",
       "1                                                0.0    \n",
       "\n",
       "   PREV_NAME_YIELD_GROUP_high_MEAN  PREV_NAME_YIELD_GROUP_low_normal_MEAN  \\\n",
       "0                              1.0                                    0.0   \n",
       "1                              0.5                                    0.0   \n",
       "\n",
       "   REFUSED_DAYS_DECISION_MAX  POS_MONTHS_BALANCE_MEAN  \\\n",
       "0                     -396.0               -72.555556   \n",
       "1                     -396.0               -20.000000   \n",
       "\n",
       "   CC_AMT_CREDIT_LIMIT_ACTUAL_SUM  \n",
       "0                       3960000.0  \n",
       "1                       3960000.0  \n",
       "\n",
       "[2 rows x 35 columns]"
      ]
     },
     "execution_count": 4,
     "metadata": {},
     "output_type": "execute_result"
    }
   ],
   "source": [
    "# depuis le notebooke BAHROUN_Rim_1_notebook_042023, on récupére les datas train et test agrégés avec tous les variables. \n",
    "test_df = pd.read_csv(\"data/traited/df_credit_test_col.csv\", usecols=columns_)\n",
    "test_df.loc[:, test_df.columns != 'TARGET'] = test_df.loc[:, test_df.columns != 'TARGET'].fillna(train_df.loc[:, train_df.columns != 'TARGET'].median())\n",
    "print(test_df.shape)\n",
    "test_df.head(2)"
   ]
  },
  {
   "cell_type": "code",
   "execution_count": 5,
   "id": "d7ad4e4d",
   "metadata": {},
   "outputs": [],
   "source": [
    "x = train_df.drop(columns=[\"SK_ID_CURR\", 'TARGET'])\n",
    "y = train_df.loc[:, train_df.columns=='TARGET']"
   ]
  },
  {
   "cell_type": "code",
   "execution_count": 6,
   "id": "a81eeabd",
   "metadata": {},
   "outputs": [],
   "source": [
    "x_train, x_val, y_train, y_val = train_test_split(x, y, \n",
    "                                                    test_size=0.33, \n",
    "                                                    random_state=42)"
   ]
  },
  {
   "cell_type": "code",
   "execution_count": 7,
   "id": "023967df",
   "metadata": {},
   "outputs": [],
   "source": [
    "x_test = test_df.drop(columns=[\"SK_ID_CURR\", 'TARGET'])"
   ]
  },
  {
   "cell_type": "markdown",
   "id": "7a592e75",
   "metadata": {},
   "source": [
    "# Fonctions utiles"
   ]
  },
  {
   "cell_type": "code",
   "execution_count": 8,
   "id": "bbe1568f",
   "metadata": {},
   "outputs": [],
   "source": [
    "def Custom_score(y_true, y_pred):\n",
    "    # coût d'un faux positif et un faux négatif\n",
    "    cout_fp = 1\n",
    "    cout_fn = 10\n",
    "    \n",
    "    # nombre total d'exemples positifs et négatifs\n",
    "    n_pos = (y_true==1).sum()\n",
    "    n_neg = (y_true==0).sum()\n",
    "    # calcul du coût maximum possible\n",
    "    max_cout = cout_fp * n_neg + cout_fn * n_pos\n",
    "    \n",
    "    # Calcul du nombre de faux positifs et faux négatifs\n",
    "    fp = ((y_pred == 1) & (y_true == 0)).sum()\n",
    "    fn = ((y_pred == 0) & (y_true == 1)).sum()\n",
    "    \n",
    "    # calcul du coût total    \n",
    "    cout = (cout_fp * fp + cout_fn * fn)  # / (fn + fp)\n",
    "    cout_notmalise = cout/max_cout\n",
    "    score = round(1 - cout_notmalise, 2)\n",
    "    return score[0]\n",
    "\n",
    "custom_score = make_scorer(Custom_score, greater_is_better=True)"
   ]
  },
  {
   "cell_type": "code",
   "execution_count": 12,
   "id": "59459fcd",
   "metadata": {},
   "outputs": [],
   "source": [
    "def model_eval_score(model, Xval, yval):\n",
    "    \n",
    "    yval_pred = model.predict(Xval)\n",
    "    \n",
    "    metrics = {'AUROC_score': round(roc_auc_score(yval, model.predict_proba(Xval)[:, 1]), 2),\n",
    "               'Costum_score': round(Custom_score(yval, yval_pred.reshape(-1, 1)), 2),\n",
    "               'f_beta_score': round(fbeta_score(yval, yval_pred, beta=3.16), 2),\n",
    "               'Accuracy_score': round(accuracy_score(yval, yval_pred), 2),\n",
    "               'Recall_score': round(recall_score(yval, yval_pred), 2),\n",
    "               'Presicion_score': round(precision_score(yval, yval_pred), 2)}\n",
    "\n",
    "    for key, val in metrics.items():\n",
    "        print(key + ' : ' + str(val))\n",
    "    print('conf_mat : \\n' + str(confusion_matrix(yval, yval_pred)))\n",
    "    print() \n",
    "    return metrics"
   ]
  },
  {
   "cell_type": "markdown",
   "id": "1530eed2",
   "metadata": {},
   "source": [
    "# Pipeline "
   ]
  },
  {
   "cell_type": "markdown",
   "id": "62cde473",
   "metadata": {},
   "source": [
    "## LogisticRegression"
   ]
  },
  {
   "cell_type": "markdown",
   "id": "d8bcc803",
   "metadata": {},
   "source": [
    "### Enregistrement du modèle "
   ]
  },
  {
   "cell_type": "code",
   "execution_count": 10,
   "id": "b5a00b81",
   "metadata": {},
   "outputs": [],
   "source": [
    "mlflow.set_tracking_uri(\"sqlite:///mlflow.db\")"
   ]
  },
  {
   "cell_type": "code",
   "execution_count": 13,
   "id": "40d8ceeb",
   "metadata": {},
   "outputs": [
    {
     "name": "stderr",
     "output_type": "stream",
     "text": [
      "C:\\ProgramData\\Anaconda3\\lib\\site-packages\\sklearn\\utils\\validation.py:993: DataConversionWarning: A column-vector y was passed when a 1d array was expected. Please change the shape of y to (n_samples, ), for example using ravel().\n",
      "  y = column_or_1d(y, warn=True)\n"
     ]
    },
    {
     "name": "stdout",
     "output_type": "stream",
     "text": [
      "AUROC_score : 0.73\n",
      "Costum_score : 0.67\n",
      "f_beta_score : 0.5\n",
      "Accuracy_score : 0.68\n",
      "Recall_score : 0.65\n",
      "Presicion_score : 0.15\n",
      "conf_mat : \n",
      "[[63851 29457]\n",
      " [ 2853  5317]]\n",
      "\n"
     ]
    },
    {
     "name": "stderr",
     "output_type": "stream",
     "text": [
      "C:\\ProgramData\\Anaconda3\\lib\\site-packages\\_distutils_hack\\__init__.py:30: UserWarning: Setuptools is replacing distutils.\n",
      "  warnings.warn(\"Setuptools is replacing distutils.\")\n"
     ]
    }
   ],
   "source": [
    "mlflow.sklearn.autolog(disable=True)\n",
    "\n",
    "with mlflow.start_run(run_name='LogisticRegression'):\n",
    "    params = {\n",
    "        \"solver\": 'lbfgs',\n",
    "        \"class_weight\" : 'balanced'\n",
    "    }\n",
    "    \n",
    "    mlflow.set_tag(\"model_name\", \"LR_final\")\n",
    "    mlflow.log_params(params)\n",
    "    \n",
    "    pipeline_lr = pipeline.Pipeline([ ('scaler', StandardScaler()),\n",
    "                             ('clf', LogisticRegression(**params))])\n",
    "\n",
    "    pipeline_lr.fit(x_train, y_train)\n",
    "    \n",
    "    mlflow.log_metrics(model_eval_score(pipeline_lr, x_val, y_val))\n",
    "    mlflow.sklearn.log_model(pipeline_lr, \"sk_models\") "
   ]
  },
  {
   "cell_type": "markdown",
   "id": "6dfe1d78",
   "metadata": {},
   "source": [
    "### Téléchargement du modèle et prédiction"
   ]
  },
  {
   "cell_type": "code",
   "execution_count": 27,
   "id": "37aa8bf8",
   "metadata": {},
   "outputs": [
    {
     "data": {
      "text/plain": [
       "array([1., 0., 0., ..., 0., 1., 0.])"
      ]
     },
     "execution_count": 27,
     "metadata": {},
     "output_type": "execute_result"
    }
   ],
   "source": [
    "model_name = \"LR_final\"\n",
    "stage = \"Production\" # \"Staging\"  \n",
    "\n",
    "model = mlflow.sklearn.load_model(model_uri=f\"models:/{model_name}/{stage}\")\n",
    "\n",
    "model.predict(x_val)"
   ]
  },
  {
   "cell_type": "code",
   "execution_count": 22,
   "id": "a1a9575e",
   "metadata": {},
   "outputs": [
    {
     "data": {
      "text/html": [
       "<div>\n",
       "<style scoped>\n",
       "    .dataframe tbody tr th:only-of-type {\n",
       "        vertical-align: middle;\n",
       "    }\n",
       "\n",
       "    .dataframe tbody tr th {\n",
       "        vertical-align: top;\n",
       "    }\n",
       "\n",
       "    .dataframe thead th {\n",
       "        text-align: right;\n",
       "    }\n",
       "</style>\n",
       "<table border=\"1\" class=\"dataframe\">\n",
       "  <thead>\n",
       "    <tr style=\"text-align: right;\">\n",
       "      <th></th>\n",
       "      <th>SK_ID_CURR</th>\n",
       "      <th>TARGET</th>\n",
       "    </tr>\n",
       "  </thead>\n",
       "  <tbody>\n",
       "    <tr>\n",
       "      <th>0</th>\n",
       "      <td>100001</td>\n",
       "      <td>0.443131</td>\n",
       "    </tr>\n",
       "    <tr>\n",
       "      <th>1</th>\n",
       "      <td>100005</td>\n",
       "      <td>0.674566</td>\n",
       "    </tr>\n",
       "    <tr>\n",
       "      <th>2</th>\n",
       "      <td>100013</td>\n",
       "      <td>0.229805</td>\n",
       "    </tr>\n",
       "    <tr>\n",
       "      <th>3</th>\n",
       "      <td>100028</td>\n",
       "      <td>0.340662</td>\n",
       "    </tr>\n",
       "    <tr>\n",
       "      <th>4</th>\n",
       "      <td>100038</td>\n",
       "      <td>0.717714</td>\n",
       "    </tr>\n",
       "  </tbody>\n",
       "</table>\n",
       "</div>"
      ],
      "text/plain": [
       "   SK_ID_CURR    TARGET\n",
       "0      100001  0.443131\n",
       "1      100005  0.674566\n",
       "2      100013  0.229805\n",
       "3      100028  0.340662\n",
       "4      100038  0.717714"
      ]
     },
     "execution_count": 22,
     "metadata": {},
     "output_type": "execute_result"
    }
   ],
   "source": [
    "df_ = test_df.loc[:, [\"SK_ID_CURR\", 'TARGET']]\n",
    "df_.loc[:, 'TARGET'] = model.predict_proba(x_test)[:, 1]\n",
    "df_.head()"
   ]
  },
  {
   "cell_type": "markdown",
   "id": "1e7f93f4",
   "metadata": {},
   "source": [
    "Le AUROC score sur le jeu de test est de **0.72** sur Kaggle."
   ]
  },
  {
   "cell_type": "code",
   "execution_count": null,
   "id": "6f27f76a",
   "metadata": {},
   "outputs": [],
   "source": [
    "#df_.to_csv('submission_lr.csv', index=False)"
   ]
  },
  {
   "cell_type": "code",
   "execution_count": 30,
   "id": "ef56ea55",
   "metadata": {},
   "outputs": [
    {
     "name": "stderr",
     "output_type": "stream",
     "text": [
      "C:\\Users\\rimla\\AppData\\Roaming\\Python\\Python39\\site-packages\\mlflow\\models\\signature.py:137: UserWarning: Hint: Inferred schema contains integer column(s). Integer columns in Python cannot represent missing values. If your input data contains missing values at inference time, it will be encoded as floats and will cause a schema enforcement error. The best way to avoid this problem is to infer the model schema based on a realistic data sample (training dataset) that includes missing values. Alternatively, you can declare integer columns as doubles (float64) whenever these columns may have missing values. See `Handling Integers With Missing Values <https://www.mlflow.org/docs/latest/models.html#handling-integers-with-missing-values>`_ for more details.\n",
      "  inputs = _infer_schema(model_input)\n"
     ]
    }
   ],
   "source": [
    "signature = infer_signature(x_train, y_train)"
   ]
  },
  {
   "cell_type": "code",
   "execution_count": 31,
   "id": "ff71b763",
   "metadata": {},
   "outputs": [],
   "source": [
    "mlflow.sklearn.save_model(model, \"LR_model\", signature=signature)"
   ]
  },
  {
   "cell_type": "code",
   "execution_count": null,
   "id": "51b6720b",
   "metadata": {},
   "outputs": [],
   "source": [
    "# mlflow models serve -m LR_model/"
   ]
  },
  {
   "cell_type": "markdown",
   "id": "c1a23cab",
   "metadata": {},
   "source": [
    "## LGBMClassifier"
   ]
  },
  {
   "cell_type": "markdown",
   "id": "b58c3212",
   "metadata": {},
   "source": [
    "### Enregistrement du modèle "
   ]
  },
  {
   "cell_type": "code",
   "execution_count": 23,
   "id": "5d97dcff",
   "metadata": {},
   "outputs": [
    {
     "name": "stderr",
     "output_type": "stream",
     "text": [
      "C:\\ProgramData\\Anaconda3\\lib\\site-packages\\sklearn\\preprocessing\\_label.py:98: DataConversionWarning: A column-vector y was passed when a 1d array was expected. Please change the shape of y to (n_samples, ), for example using ravel().\n",
      "  y = column_or_1d(y, warn=True)\n",
      "C:\\ProgramData\\Anaconda3\\lib\\site-packages\\sklearn\\preprocessing\\_label.py:133: DataConversionWarning: A column-vector y was passed when a 1d array was expected. Please change the shape of y to (n_samples, ), for example using ravel().\n",
      "  y = column_or_1d(y, warn=True)\n"
     ]
    },
    {
     "name": "stdout",
     "output_type": "stream",
     "text": [
      "AUROC_score : 0.74\n",
      "Costum_score : 0.68\n",
      "f_beta_score : 0.51\n",
      "Accuracy_score : 0.7\n",
      "Recall_score : 0.65\n",
      "Presicion_score : 0.16\n",
      "conf_mat : \n",
      "[[65414 27894]\n",
      " [ 2820  5350]]\n",
      "\n"
     ]
    }
   ],
   "source": [
    "mlflow.sklearn.autolog(disable=True)\n",
    "\n",
    "with mlflow.start_run(run_name='LGBMClassifier'):\n",
    "    params = {\n",
    "        \"n_estimators\": 500,\n",
    "        \"max_depth\": 8, \n",
    "        \"learning_rate\": 0.02,\n",
    "        \"class_weight\": 'balanced'\n",
    "    }\n",
    "    \n",
    "    mlflow.set_tag(\"model_name\", \"LGBM_final\")\n",
    "    mlflow.log_params(params)\n",
    "    \n",
    "    pipeline_lgbm = pipeline.Pipeline([ ('scaler', StandardScaler()),\n",
    "                             ('clf', LGBMClassifier(**params))])\n",
    "\n",
    "    pipeline_lgbm.fit(x_train, y_train)\n",
    "    \n",
    "    mlflow.log_metrics(model_eval_score(pipeline_lgbm, x_val, y_val))\n",
    "    mlflow.sklearn.log_model(pipeline_lgbm, \"sk_models\") "
   ]
  },
  {
   "cell_type": "markdown",
   "id": "9f719caa",
   "metadata": {},
   "source": [
    "### Téléchargement du modèle et prédiction"
   ]
  },
  {
   "cell_type": "code",
   "execution_count": 32,
   "id": "8d5da4c2",
   "metadata": {},
   "outputs": [
    {
     "data": {
      "text/plain": [
       "array([1., 0., 1., ..., 1., 1., 1.])"
      ]
     },
     "execution_count": 32,
     "metadata": {},
     "output_type": "execute_result"
    }
   ],
   "source": [
    "model_name = \"LGBM_final\"\n",
    "stage = \"Staging\"  # \"Production\"\n",
    "\n",
    "model = mlflow.sklearn.load_model(model_uri=f\"models:/{model_name}/{stage}\")\n",
    "\n",
    "model.predict(x_val)"
   ]
  },
  {
   "cell_type": "code",
   "execution_count": 25,
   "id": "3320f343",
   "metadata": {},
   "outputs": [
    {
     "data": {
      "text/html": [
       "<div>\n",
       "<style scoped>\n",
       "    .dataframe tbody tr th:only-of-type {\n",
       "        vertical-align: middle;\n",
       "    }\n",
       "\n",
       "    .dataframe tbody tr th {\n",
       "        vertical-align: top;\n",
       "    }\n",
       "\n",
       "    .dataframe thead th {\n",
       "        text-align: right;\n",
       "    }\n",
       "</style>\n",
       "<table border=\"1\" class=\"dataframe\">\n",
       "  <thead>\n",
       "    <tr style=\"text-align: right;\">\n",
       "      <th></th>\n",
       "      <th>SK_ID_CURR</th>\n",
       "      <th>TARGET</th>\n",
       "    </tr>\n",
       "  </thead>\n",
       "  <tbody>\n",
       "    <tr>\n",
       "      <th>0</th>\n",
       "      <td>100001</td>\n",
       "      <td>0.236890</td>\n",
       "    </tr>\n",
       "    <tr>\n",
       "      <th>1</th>\n",
       "      <td>100005</td>\n",
       "      <td>0.574510</td>\n",
       "    </tr>\n",
       "    <tr>\n",
       "      <th>2</th>\n",
       "      <td>100013</td>\n",
       "      <td>0.190605</td>\n",
       "    </tr>\n",
       "    <tr>\n",
       "      <th>3</th>\n",
       "      <td>100028</td>\n",
       "      <td>0.340771</td>\n",
       "    </tr>\n",
       "    <tr>\n",
       "      <th>4</th>\n",
       "      <td>100038</td>\n",
       "      <td>0.734250</td>\n",
       "    </tr>\n",
       "  </tbody>\n",
       "</table>\n",
       "</div>"
      ],
      "text/plain": [
       "   SK_ID_CURR    TARGET\n",
       "0      100001  0.236890\n",
       "1      100005  0.574510\n",
       "2      100013  0.190605\n",
       "3      100028  0.340771\n",
       "4      100038  0.734250"
      ]
     },
     "execution_count": 25,
     "metadata": {},
     "output_type": "execute_result"
    }
   ],
   "source": [
    "df_ = test_df.loc[:, [\"SK_ID_CURR\", 'TARGET']]\n",
    "df_.loc[:, 'TARGET'] = model.predict_proba(x_test)[:, 1]\n",
    "df_.head()"
   ]
  },
  {
   "cell_type": "markdown",
   "id": "34540a7d",
   "metadata": {},
   "source": [
    "Le AUROC score sur le jeu de test est de **0.73** sur Kaggle."
   ]
  },
  {
   "cell_type": "code",
   "execution_count": 90,
   "id": "206f684b",
   "metadata": {},
   "outputs": [],
   "source": [
    "#df_.to_csv('submission_lgbm.csv', index=False)"
   ]
  },
  {
   "cell_type": "code",
   "execution_count": 33,
   "id": "2e09018d",
   "metadata": {},
   "outputs": [],
   "source": [
    "#mlflow.sklearn.save_model(model, \"LGBM_model\", signature=signature)"
   ]
  },
  {
   "cell_type": "code",
   "execution_count": null,
   "id": "2c9a54a7",
   "metadata": {},
   "outputs": [],
   "source": []
  }
 ],
 "metadata": {
  "kernelspec": {
   "display_name": "Python 3 (ipykernel)",
   "language": "python",
   "name": "python3"
  },
  "language_info": {
   "codemirror_mode": {
    "name": "ipython",
    "version": 3
   },
   "file_extension": ".py",
   "mimetype": "text/x-python",
   "name": "python",
   "nbconvert_exporter": "python",
   "pygments_lexer": "ipython3",
   "version": "3.9.12"
  },
  "toc": {
   "base_numbering": 1,
   "nav_menu": {},
   "number_sections": true,
   "sideBar": true,
   "skip_h1_title": false,
   "title_cell": "Table of Contents",
   "title_sidebar": "Contents",
   "toc_cell": false,
   "toc_position": {
    "height": "calc(100% - 180px)",
    "left": "10px",
    "top": "150px",
    "width": "345.98px"
   },
   "toc_section_display": true,
   "toc_window_display": true
  },
  "varInspector": {
   "cols": {
    "lenName": 16,
    "lenType": 16,
    "lenVar": 40
   },
   "kernels_config": {
    "python": {
     "delete_cmd_postfix": "",
     "delete_cmd_prefix": "del ",
     "library": "var_list.py",
     "varRefreshCmd": "print(var_dic_list())"
    },
    "r": {
     "delete_cmd_postfix": ") ",
     "delete_cmd_prefix": "rm(",
     "library": "var_list.r",
     "varRefreshCmd": "cat(var_dic_list()) "
    }
   },
   "types_to_exclude": [
    "module",
    "function",
    "builtin_function_or_method",
    "instance",
    "_Feature"
   ],
   "window_display": false
  }
 },
 "nbformat": 4,
 "nbformat_minor": 5
}

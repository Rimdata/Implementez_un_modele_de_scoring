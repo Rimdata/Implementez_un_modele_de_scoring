{
 "cells": [
  {
   "cell_type": "markdown",
   "id": "2c9eaf62",
   "metadata": {},
   "source": [
    "<img src=\"OC.png\" width=\"50\" height=\"50\" align=\"left\">    \n",
    "\n",
    "***\n",
    "\n",
    "<center> <font size=\"6\"> <span style='color:Blue'> P7: Implémentez un modèle de scoring </span></font> </center>  \n",
    "\n",
    "***"
   ]
  },
  {
   "cell_type": "markdown",
   "id": "e3e09037",
   "metadata": {},
   "source": [
    "<font size=\"3\"> <span style=\"font-size: 1.5em\" > **Partie 2 : Modélisation** </span> </font> "
   ]
  },
  {
   "cell_type": "markdown",
   "id": "177379ca",
   "metadata": {},
   "source": [
    "**Contexte**  \n",
    "**Prêt à dépenser** est une société financière qui propose des crédits à la consommation pour des personnes ayant peu ou pas du tout d'historique de prêt.\n",
    "<img src=\"pretadepenser.png\" width=\"200\" height=\"200\">\n",
    "**Mission**   \n",
    "* Construire un modèle de scoring qui donnera une prédiction sur la probabilité de faillite d'un client de façon automatique.\n",
    "* Construire un dashboard interactif à destination des gestionnaires de la relation client permettant d'interpréter les prédictions faites par le modèle, et d’améliorer la connaissance client des chargés de relation client.\n",
    "* Mettre en production le modèle de scoring de prédiction à l’aide d’une API, ainsi que le dashboard interactif qui appelle l’API pour les prédictions."
   ]
  },
  {
   "cell_type": "markdown",
   "id": "47ade415",
   "metadata": {},
   "source": [
    "Dans ce notebook, nous allos:\n",
    "* Résoudre le problème de désiquilibre entre les classes.\n",
    "* Implémenter un modèle de machine learning\n",
    "* Chercher les meilleurs hyperparamètres par gridsearchCV\n",
    "* ....."
   ]
  },
  {
   "cell_type": "markdown",
   "id": "bd6a46dc",
   "metadata": {},
   "source": [
    "# Importation des données et des librairies Python pour DS"
   ]
  },
  {
   "cell_type": "code",
   "execution_count": 87,
   "id": "5b41b0a8",
   "metadata": {},
   "outputs": [],
   "source": [
    "# ------------------------------------------\n",
    "# Projet : Implémenter un modèle de scoring\n",
    "# Données: https://www.kaggle.com/c/home-credit-default-risk/data\n",
    "# Auteur : Rim BAHROUN\n",
    "# Date: Avril 2023\n",
    "# OpenClassrooms\n",
    "# -------------------------------------------\n",
    "# importation des librairies Python pour DS\n",
    "# -------------------------------------------\n",
    "import os\n",
    "import csv\n",
    "import numpy as np\n",
    "import pandas as pd\n",
    "import re\n",
    "import gc\n",
    "import time\n",
    "from contextlib import contextmanager\n",
    "from sklearn.preprocessing import StandardScaler\n",
    "from lightgbm import LGBMClassifier\n",
    "import lightgbm as lgb\n",
    "from sklearn.metrics import make_scorer, f1_score, fbeta_score, roc_auc_score, roc_curve\n",
    "from sklearn.metrics import accuracy_score, precision_score, recall_score, confusion_matrix\n",
    "from sklearn.model_selection import KFold, StratifiedKFold\n",
    "from sklearn.model_selection import train_test_split\n",
    "from sklearn.model_selection import GridSearchCV\n",
    "from imblearn.over_sampling import SMOTE\n",
    "import matplotlib.pyplot as plt\n",
    "import seaborn as sns\n",
    "from pylab import rcParams\n",
    "import warnings\n",
    "warnings.simplefilter(action='ignore', category=FutureWarning)\n",
    "from sklearn.linear_model import LogisticRegression"
   ]
  },
  {
   "cell_type": "code",
   "execution_count": 86,
   "id": "afa7f98c",
   "metadata": {},
   "outputs": [
    {
     "name": "stdout",
     "output_type": "stream",
     "text": [
      "C:\\ProgramData\\Anaconda3\\python.exe\n"
     ]
    }
   ],
   "source": [
    "import sys\n",
    "print(sys.executable)"
   ]
  },
  {
   "cell_type": "code",
   "execution_count": 63,
   "id": "25da0af7",
   "metadata": {},
   "outputs": [],
   "source": [
    "%matplotlib inline\n",
    "np.random.seed(27)\n",
    "rcParams['figure.figsize'] = 10, 6\n",
    "warnings.filterwarnings('ignore')\n",
    "sns.set(style=\"darkgrid\")"
   ]
  },
  {
   "cell_type": "code",
   "execution_count": 2,
   "id": "667f03d5",
   "metadata": {},
   "outputs": [],
   "source": [
    "pd.set_option('display.max_rows', 100)\n",
    "pd.set_option('display.max_columns', 100)"
   ]
  },
  {
   "cell_type": "code",
   "execution_count": 3,
   "id": "32c0f34d",
   "metadata": {},
   "outputs": [],
   "source": [
    "train_df = pd.read_csv('data/traited/df_train_35.csv')"
   ]
  },
  {
   "cell_type": "code",
   "execution_count": 4,
   "id": "e22c340b",
   "metadata": {},
   "outputs": [
    {
     "data": {
      "text/html": [
       "<div>\n",
       "<style scoped>\n",
       "    .dataframe tbody tr th:only-of-type {\n",
       "        vertical-align: middle;\n",
       "    }\n",
       "\n",
       "    .dataframe tbody tr th {\n",
       "        vertical-align: top;\n",
       "    }\n",
       "\n",
       "    .dataframe thead th {\n",
       "        text-align: right;\n",
       "    }\n",
       "</style>\n",
       "<table border=\"1\" class=\"dataframe\">\n",
       "  <thead>\n",
       "    <tr style=\"text-align: right;\">\n",
       "      <th></th>\n",
       "      <th>EXT_SOURCE_2</th>\n",
       "      <th>PREV_DAYS_DECISION_MEAN</th>\n",
       "      <th>BURO_MONTHS_BALANCE_SIZE_MEAN</th>\n",
       "      <th>DAYS_REGISTRATION</th>\n",
       "      <th>PREV_NAME_YIELD_GROUP_low_normal_MEAN</th>\n",
       "      <th>PREV_NAME_YIELD_GROUP_high_MEAN</th>\n",
       "      <th>REGION_POPULATION_RELATIVE</th>\n",
       "      <th>PREV_NAME_PAYMENT_TYPE_Cashthroughthebank_MEAN</th>\n",
       "      <th>BURO_DAYS_CREDIT_MAX</th>\n",
       "      <th>POS_MONTHS_BALANCE_MEAN</th>\n",
       "      <th>BURO_CREDIT_TYPE_Creditcard_MEAN</th>\n",
       "      <th>CLOSED_DAYS_CREDIT_MAX</th>\n",
       "      <th>BURO_STATUS_0_MEAN_MEAN</th>\n",
       "      <th>HOUR_APPR_PROCESS_START</th>\n",
       "      <th>PREV_NAME_PRODUCT_TYPE_XNA_MEAN</th>\n",
       "      <th>PREV_NAME_SELLER_INDUSTRY_Consumerelectronics_MEAN</th>\n",
       "      <th>CC_AMT_CREDIT_LIMIT_ACTUAL_SUM</th>\n",
       "      <th>PREV_NAME_TYPE_SUITE_nan_MEAN</th>\n",
       "      <th>CLOSED_DAYS_CREDIT_MEAN</th>\n",
       "      <th>ACTIVE_DAYS_CREDIT_MIN</th>\n",
       "      <th>BURO_DAYS_CREDIT_MIN</th>\n",
       "      <th>EXT_SOURCE_3</th>\n",
       "      <th>EXT_SOURCE_1</th>\n",
       "      <th>BURO_DAYS_CREDIT_MEAN</th>\n",
       "      <th>DAYS_BIRTH</th>\n",
       "      <th>BURO_CREDIT_ACTIVE_Active_MEAN</th>\n",
       "      <th>ACTIVE_DAYS_CREDIT_MAX</th>\n",
       "      <th>PREV_NAME_CONTRACT_STATUS_Approved_MEAN</th>\n",
       "      <th>DAYS_LAST_PHONE_CHANGE</th>\n",
       "      <th>REFUSED_DAYS_DECISION_MAX</th>\n",
       "      <th>ACTIVE_DAYS_CREDIT_MEAN</th>\n",
       "      <th>PREV_DAYS_DECISION_MIN</th>\n",
       "      <th>DAYS_ID_PUBLISH</th>\n",
       "      <th>TARGET</th>\n",
       "      <th>SK_ID_CURR</th>\n",
       "    </tr>\n",
       "  </thead>\n",
       "  <tbody>\n",
       "    <tr>\n",
       "      <th>0</th>\n",
       "      <td>0.262949</td>\n",
       "      <td>-606.000000</td>\n",
       "      <td>13.75</td>\n",
       "      <td>-3648.0</td>\n",
       "      <td>1.000000</td>\n",
       "      <td>0.000000</td>\n",
       "      <td>0.018801</td>\n",
       "      <td>0.000000</td>\n",
       "      <td>-103.0</td>\n",
       "      <td>-10.000000</td>\n",
       "      <td>0.5</td>\n",
       "      <td>-476.0</td>\n",
       "      <td>0.406960</td>\n",
       "      <td>10</td>\n",
       "      <td>1.000000</td>\n",
       "      <td>0.000000</td>\n",
       "      <td>3960000.0</td>\n",
       "      <td>1.000000</td>\n",
       "      <td>-974.500000</td>\n",
       "      <td>-1042.0</td>\n",
       "      <td>-1437.0</td>\n",
       "      <td>0.139376</td>\n",
       "      <td>0.083037</td>\n",
       "      <td>-874.000000</td>\n",
       "      <td>-9461</td>\n",
       "      <td>0.250</td>\n",
       "      <td>-103.0</td>\n",
       "      <td>1.000000</td>\n",
       "      <td>-1134.0</td>\n",
       "      <td>-396.0</td>\n",
       "      <td>-572.500000</td>\n",
       "      <td>-606.0</td>\n",
       "      <td>-2120</td>\n",
       "      <td>1.0</td>\n",
       "      <td>100002</td>\n",
       "    </tr>\n",
       "    <tr>\n",
       "      <th>1</th>\n",
       "      <td>0.622246</td>\n",
       "      <td>-1305.000000</td>\n",
       "      <td>24.75</td>\n",
       "      <td>-1186.0</td>\n",
       "      <td>0.333333</td>\n",
       "      <td>0.000000</td>\n",
       "      <td>0.003541</td>\n",
       "      <td>0.666667</td>\n",
       "      <td>-606.0</td>\n",
       "      <td>-43.785714</td>\n",
       "      <td>0.5</td>\n",
       "      <td>-775.0</td>\n",
       "      <td>0.436423</td>\n",
       "      <td>11</td>\n",
       "      <td>0.666667</td>\n",
       "      <td>0.333333</td>\n",
       "      <td>3960000.0</td>\n",
       "      <td>0.000000</td>\n",
       "      <td>-1665.666667</td>\n",
       "      <td>-606.0</td>\n",
       "      <td>-2586.0</td>\n",
       "      <td>0.535276</td>\n",
       "      <td>0.311267</td>\n",
       "      <td>-1400.750000</td>\n",
       "      <td>-16765</td>\n",
       "      <td>0.250</td>\n",
       "      <td>-606.0</td>\n",
       "      <td>1.000000</td>\n",
       "      <td>-828.0</td>\n",
       "      <td>-396.0</td>\n",
       "      <td>-606.000000</td>\n",
       "      <td>-2341.0</td>\n",
       "      <td>-291</td>\n",
       "      <td>0.0</td>\n",
       "      <td>100003</td>\n",
       "    </tr>\n",
       "    <tr>\n",
       "      <th>2</th>\n",
       "      <td>0.555912</td>\n",
       "      <td>-815.000000</td>\n",
       "      <td>24.75</td>\n",
       "      <td>-4260.0</td>\n",
       "      <td>0.000000</td>\n",
       "      <td>0.000000</td>\n",
       "      <td>0.010032</td>\n",
       "      <td>1.000000</td>\n",
       "      <td>-408.0</td>\n",
       "      <td>-25.500000</td>\n",
       "      <td>0.0</td>\n",
       "      <td>-408.0</td>\n",
       "      <td>0.436423</td>\n",
       "      <td>9</td>\n",
       "      <td>1.000000</td>\n",
       "      <td>0.000000</td>\n",
       "      <td>3960000.0</td>\n",
       "      <td>0.000000</td>\n",
       "      <td>-867.000000</td>\n",
       "      <td>-764.0</td>\n",
       "      <td>-1326.0</td>\n",
       "      <td>0.729567</td>\n",
       "      <td>0.505998</td>\n",
       "      <td>-867.000000</td>\n",
       "      <td>-19046</td>\n",
       "      <td>0.000</td>\n",
       "      <td>-258.0</td>\n",
       "      <td>1.000000</td>\n",
       "      <td>-815.0</td>\n",
       "      <td>-396.0</td>\n",
       "      <td>-537.309524</td>\n",
       "      <td>-815.0</td>\n",
       "      <td>-2531</td>\n",
       "      <td>0.0</td>\n",
       "      <td>100004</td>\n",
       "    </tr>\n",
       "    <tr>\n",
       "      <th>3</th>\n",
       "      <td>0.650442</td>\n",
       "      <td>-272.444444</td>\n",
       "      <td>24.75</td>\n",
       "      <td>-9833.0</td>\n",
       "      <td>0.222222</td>\n",
       "      <td>0.222222</td>\n",
       "      <td>0.008019</td>\n",
       "      <td>0.444444</td>\n",
       "      <td>-300.0</td>\n",
       "      <td>-9.619048</td>\n",
       "      <td>0.2</td>\n",
       "      <td>-729.0</td>\n",
       "      <td>0.436423</td>\n",
       "      <td>17</td>\n",
       "      <td>0.555556</td>\n",
       "      <td>0.111111</td>\n",
       "      <td>1620000.0</td>\n",
       "      <td>0.555556</td>\n",
       "      <td>-1366.555556</td>\n",
       "      <td>-764.0</td>\n",
       "      <td>-1827.0</td>\n",
       "      <td>0.535276</td>\n",
       "      <td>0.505998</td>\n",
       "      <td>-1050.571429</td>\n",
       "      <td>-19005</td>\n",
       "      <td>0.375</td>\n",
       "      <td>-258.0</td>\n",
       "      <td>0.555556</td>\n",
       "      <td>-617.0</td>\n",
       "      <td>-181.0</td>\n",
       "      <td>-537.309524</td>\n",
       "      <td>-617.0</td>\n",
       "      <td>-2437</td>\n",
       "      <td>0.0</td>\n",
       "      <td>100006</td>\n",
       "    </tr>\n",
       "    <tr>\n",
       "      <th>4</th>\n",
       "      <td>0.322738</td>\n",
       "      <td>-1222.833333</td>\n",
       "      <td>24.75</td>\n",
       "      <td>-4311.0</td>\n",
       "      <td>0.000000</td>\n",
       "      <td>0.500000</td>\n",
       "      <td>0.028663</td>\n",
       "      <td>0.833333</td>\n",
       "      <td>-1149.0</td>\n",
       "      <td>-33.636364</td>\n",
       "      <td>0.0</td>\n",
       "      <td>-1149.0</td>\n",
       "      <td>0.436423</td>\n",
       "      <td>11</td>\n",
       "      <td>0.333333</td>\n",
       "      <td>0.500000</td>\n",
       "      <td>3960000.0</td>\n",
       "      <td>0.333333</td>\n",
       "      <td>-1149.000000</td>\n",
       "      <td>-764.0</td>\n",
       "      <td>-1149.0</td>\n",
       "      <td>0.535276</td>\n",
       "      <td>0.505998</td>\n",
       "      <td>-1149.000000</td>\n",
       "      <td>-19932</td>\n",
       "      <td>0.000</td>\n",
       "      <td>-258.0</td>\n",
       "      <td>1.000000</td>\n",
       "      <td>-1106.0</td>\n",
       "      <td>-396.0</td>\n",
       "      <td>-537.309524</td>\n",
       "      <td>-2357.0</td>\n",
       "      <td>-3458</td>\n",
       "      <td>0.0</td>\n",
       "      <td>100007</td>\n",
       "    </tr>\n",
       "  </tbody>\n",
       "</table>\n",
       "</div>"
      ],
      "text/plain": [
       "   EXT_SOURCE_2  PREV_DAYS_DECISION_MEAN  BURO_MONTHS_BALANCE_SIZE_MEAN  \\\n",
       "0      0.262949              -606.000000                          13.75   \n",
       "1      0.622246             -1305.000000                          24.75   \n",
       "2      0.555912              -815.000000                          24.75   \n",
       "3      0.650442              -272.444444                          24.75   \n",
       "4      0.322738             -1222.833333                          24.75   \n",
       "\n",
       "   DAYS_REGISTRATION  PREV_NAME_YIELD_GROUP_low_normal_MEAN  \\\n",
       "0            -3648.0                               1.000000   \n",
       "1            -1186.0                               0.333333   \n",
       "2            -4260.0                               0.000000   \n",
       "3            -9833.0                               0.222222   \n",
       "4            -4311.0                               0.000000   \n",
       "\n",
       "   PREV_NAME_YIELD_GROUP_high_MEAN  REGION_POPULATION_RELATIVE  \\\n",
       "0                         0.000000                    0.018801   \n",
       "1                         0.000000                    0.003541   \n",
       "2                         0.000000                    0.010032   \n",
       "3                         0.222222                    0.008019   \n",
       "4                         0.500000                    0.028663   \n",
       "\n",
       "   PREV_NAME_PAYMENT_TYPE_Cashthroughthebank_MEAN  BURO_DAYS_CREDIT_MAX  \\\n",
       "0                                        0.000000                -103.0   \n",
       "1                                        0.666667                -606.0   \n",
       "2                                        1.000000                -408.0   \n",
       "3                                        0.444444                -300.0   \n",
       "4                                        0.833333               -1149.0   \n",
       "\n",
       "   POS_MONTHS_BALANCE_MEAN  BURO_CREDIT_TYPE_Creditcard_MEAN  \\\n",
       "0               -10.000000                               0.5   \n",
       "1               -43.785714                               0.5   \n",
       "2               -25.500000                               0.0   \n",
       "3                -9.619048                               0.2   \n",
       "4               -33.636364                               0.0   \n",
       "\n",
       "   CLOSED_DAYS_CREDIT_MAX  BURO_STATUS_0_MEAN_MEAN  HOUR_APPR_PROCESS_START  \\\n",
       "0                  -476.0                 0.406960                       10   \n",
       "1                  -775.0                 0.436423                       11   \n",
       "2                  -408.0                 0.436423                        9   \n",
       "3                  -729.0                 0.436423                       17   \n",
       "4                 -1149.0                 0.436423                       11   \n",
       "\n",
       "   PREV_NAME_PRODUCT_TYPE_XNA_MEAN  \\\n",
       "0                         1.000000   \n",
       "1                         0.666667   \n",
       "2                         1.000000   \n",
       "3                         0.555556   \n",
       "4                         0.333333   \n",
       "\n",
       "   PREV_NAME_SELLER_INDUSTRY_Consumerelectronics_MEAN  \\\n",
       "0                                           0.000000    \n",
       "1                                           0.333333    \n",
       "2                                           0.000000    \n",
       "3                                           0.111111    \n",
       "4                                           0.500000    \n",
       "\n",
       "   CC_AMT_CREDIT_LIMIT_ACTUAL_SUM  PREV_NAME_TYPE_SUITE_nan_MEAN  \\\n",
       "0                       3960000.0                       1.000000   \n",
       "1                       3960000.0                       0.000000   \n",
       "2                       3960000.0                       0.000000   \n",
       "3                       1620000.0                       0.555556   \n",
       "4                       3960000.0                       0.333333   \n",
       "\n",
       "   CLOSED_DAYS_CREDIT_MEAN  ACTIVE_DAYS_CREDIT_MIN  BURO_DAYS_CREDIT_MIN  \\\n",
       "0              -974.500000                 -1042.0               -1437.0   \n",
       "1             -1665.666667                  -606.0               -2586.0   \n",
       "2              -867.000000                  -764.0               -1326.0   \n",
       "3             -1366.555556                  -764.0               -1827.0   \n",
       "4             -1149.000000                  -764.0               -1149.0   \n",
       "\n",
       "   EXT_SOURCE_3  EXT_SOURCE_1  BURO_DAYS_CREDIT_MEAN  DAYS_BIRTH  \\\n",
       "0      0.139376      0.083037            -874.000000       -9461   \n",
       "1      0.535276      0.311267           -1400.750000      -16765   \n",
       "2      0.729567      0.505998            -867.000000      -19046   \n",
       "3      0.535276      0.505998           -1050.571429      -19005   \n",
       "4      0.535276      0.505998           -1149.000000      -19932   \n",
       "\n",
       "   BURO_CREDIT_ACTIVE_Active_MEAN  ACTIVE_DAYS_CREDIT_MAX  \\\n",
       "0                           0.250                  -103.0   \n",
       "1                           0.250                  -606.0   \n",
       "2                           0.000                  -258.0   \n",
       "3                           0.375                  -258.0   \n",
       "4                           0.000                  -258.0   \n",
       "\n",
       "   PREV_NAME_CONTRACT_STATUS_Approved_MEAN  DAYS_LAST_PHONE_CHANGE  \\\n",
       "0                                 1.000000                 -1134.0   \n",
       "1                                 1.000000                  -828.0   \n",
       "2                                 1.000000                  -815.0   \n",
       "3                                 0.555556                  -617.0   \n",
       "4                                 1.000000                 -1106.0   \n",
       "\n",
       "   REFUSED_DAYS_DECISION_MAX  ACTIVE_DAYS_CREDIT_MEAN  PREV_DAYS_DECISION_MIN  \\\n",
       "0                     -396.0              -572.500000                  -606.0   \n",
       "1                     -396.0              -606.000000                 -2341.0   \n",
       "2                     -396.0              -537.309524                  -815.0   \n",
       "3                     -181.0              -537.309524                  -617.0   \n",
       "4                     -396.0              -537.309524                 -2357.0   \n",
       "\n",
       "   DAYS_ID_PUBLISH  TARGET  SK_ID_CURR  \n",
       "0            -2120     1.0      100002  \n",
       "1             -291     0.0      100003  \n",
       "2            -2531     0.0      100004  \n",
       "3            -2437     0.0      100006  \n",
       "4            -3458     0.0      100007  "
      ]
     },
     "execution_count": 4,
     "metadata": {},
     "output_type": "execute_result"
    }
   ],
   "source": [
    "train_df.head()"
   ]
  },
  {
   "cell_type": "code",
   "execution_count": 5,
   "id": "cd807313",
   "metadata": {},
   "outputs": [
    {
     "name": "stdout",
     "output_type": "stream",
     "text": [
      "<class 'pandas.core.frame.DataFrame'>\n",
      "RangeIndex: 307507 entries, 0 to 307506\n",
      "Data columns (total 35 columns):\n",
      " #   Column                                              Non-Null Count   Dtype  \n",
      "---  ------                                              --------------   -----  \n",
      " 0   EXT_SOURCE_2                                        307507 non-null  float64\n",
      " 1   PREV_DAYS_DECISION_MEAN                             307507 non-null  float64\n",
      " 2   BURO_MONTHS_BALANCE_SIZE_MEAN                       307507 non-null  float64\n",
      " 3   DAYS_REGISTRATION                                   307507 non-null  float64\n",
      " 4   PREV_NAME_YIELD_GROUP_low_normal_MEAN               307507 non-null  float64\n",
      " 5   PREV_NAME_YIELD_GROUP_high_MEAN                     307507 non-null  float64\n",
      " 6   REGION_POPULATION_RELATIVE                          307507 non-null  float64\n",
      " 7   PREV_NAME_PAYMENT_TYPE_Cashthroughthebank_MEAN      307507 non-null  float64\n",
      " 8   BURO_DAYS_CREDIT_MAX                                307507 non-null  float64\n",
      " 9   POS_MONTHS_BALANCE_MEAN                             307507 non-null  float64\n",
      " 10  BURO_CREDIT_TYPE_Creditcard_MEAN                    307507 non-null  float64\n",
      " 11  CLOSED_DAYS_CREDIT_MAX                              307507 non-null  float64\n",
      " 12  BURO_STATUS_0_MEAN_MEAN                             307507 non-null  float64\n",
      " 13  HOUR_APPR_PROCESS_START                             307507 non-null  int64  \n",
      " 14  PREV_NAME_PRODUCT_TYPE_XNA_MEAN                     307507 non-null  float64\n",
      " 15  PREV_NAME_SELLER_INDUSTRY_Consumerelectronics_MEAN  307507 non-null  float64\n",
      " 16  CC_AMT_CREDIT_LIMIT_ACTUAL_SUM                      307507 non-null  float64\n",
      " 17  PREV_NAME_TYPE_SUITE_nan_MEAN                       307507 non-null  float64\n",
      " 18  CLOSED_DAYS_CREDIT_MEAN                             307507 non-null  float64\n",
      " 19  ACTIVE_DAYS_CREDIT_MIN                              307507 non-null  float64\n",
      " 20  BURO_DAYS_CREDIT_MIN                                307507 non-null  float64\n",
      " 21  EXT_SOURCE_3                                        307507 non-null  float64\n",
      " 22  EXT_SOURCE_1                                        307507 non-null  float64\n",
      " 23  BURO_DAYS_CREDIT_MEAN                               307507 non-null  float64\n",
      " 24  DAYS_BIRTH                                          307507 non-null  int64  \n",
      " 25  BURO_CREDIT_ACTIVE_Active_MEAN                      307507 non-null  float64\n",
      " 26  ACTIVE_DAYS_CREDIT_MAX                              307507 non-null  float64\n",
      " 27  PREV_NAME_CONTRACT_STATUS_Approved_MEAN             307507 non-null  float64\n",
      " 28  DAYS_LAST_PHONE_CHANGE                              307507 non-null  float64\n",
      " 29  REFUSED_DAYS_DECISION_MAX                           307507 non-null  float64\n",
      " 30  ACTIVE_DAYS_CREDIT_MEAN                             307507 non-null  float64\n",
      " 31  PREV_DAYS_DECISION_MIN                              307507 non-null  float64\n",
      " 32  DAYS_ID_PUBLISH                                     307507 non-null  int64  \n",
      " 33  TARGET                                              307507 non-null  float64\n",
      " 34  SK_ID_CURR                                          307507 non-null  int64  \n",
      "dtypes: float64(31), int64(4)\n",
      "memory usage: 82.1 MB\n"
     ]
    }
   ],
   "source": [
    "train_df.info()"
   ]
  },
  {
   "cell_type": "code",
   "execution_count": 6,
   "id": "d8e7ca3b",
   "metadata": {},
   "outputs": [],
   "source": [
    "train_df_99 = pd.read_csv('data/traited/df_train_99.csv')"
   ]
  },
  {
   "cell_type": "code",
   "execution_count": 7,
   "id": "b70325af",
   "metadata": {},
   "outputs": [],
   "source": [
    "train_df_na = train_df_99.loc[:, train_df.columns]"
   ]
  },
  {
   "cell_type": "code",
   "execution_count": 8,
   "id": "5c9384a7",
   "metadata": {
    "collapsed": true
   },
   "outputs": [
    {
     "data": {
      "text/html": [
       "<div>\n",
       "<style scoped>\n",
       "    .dataframe tbody tr th:only-of-type {\n",
       "        vertical-align: middle;\n",
       "    }\n",
       "\n",
       "    .dataframe tbody tr th {\n",
       "        vertical-align: top;\n",
       "    }\n",
       "\n",
       "    .dataframe thead th {\n",
       "        text-align: right;\n",
       "    }\n",
       "</style>\n",
       "<table border=\"1\" class=\"dataframe\">\n",
       "  <thead>\n",
       "    <tr style=\"text-align: right;\">\n",
       "      <th></th>\n",
       "      <th>EXT_SOURCE_2</th>\n",
       "      <th>PREV_DAYS_DECISION_MEAN</th>\n",
       "      <th>BURO_MONTHS_BALANCE_SIZE_MEAN</th>\n",
       "      <th>DAYS_REGISTRATION</th>\n",
       "      <th>PREV_NAME_YIELD_GROUP_low_normal_MEAN</th>\n",
       "      <th>PREV_NAME_YIELD_GROUP_high_MEAN</th>\n",
       "      <th>REGION_POPULATION_RELATIVE</th>\n",
       "      <th>PREV_NAME_PAYMENT_TYPE_Cashthroughthebank_MEAN</th>\n",
       "      <th>BURO_DAYS_CREDIT_MAX</th>\n",
       "      <th>POS_MONTHS_BALANCE_MEAN</th>\n",
       "      <th>BURO_CREDIT_TYPE_Creditcard_MEAN</th>\n",
       "      <th>CLOSED_DAYS_CREDIT_MAX</th>\n",
       "      <th>BURO_STATUS_0_MEAN_MEAN</th>\n",
       "      <th>HOUR_APPR_PROCESS_START</th>\n",
       "      <th>PREV_NAME_PRODUCT_TYPE_XNA_MEAN</th>\n",
       "      <th>PREV_NAME_SELLER_INDUSTRY_Consumerelectronics_MEAN</th>\n",
       "      <th>CC_AMT_CREDIT_LIMIT_ACTUAL_SUM</th>\n",
       "      <th>PREV_NAME_TYPE_SUITE_nan_MEAN</th>\n",
       "      <th>CLOSED_DAYS_CREDIT_MEAN</th>\n",
       "      <th>ACTIVE_DAYS_CREDIT_MIN</th>\n",
       "      <th>BURO_DAYS_CREDIT_MIN</th>\n",
       "      <th>EXT_SOURCE_3</th>\n",
       "      <th>EXT_SOURCE_1</th>\n",
       "      <th>BURO_DAYS_CREDIT_MEAN</th>\n",
       "      <th>DAYS_BIRTH</th>\n",
       "      <th>BURO_CREDIT_ACTIVE_Active_MEAN</th>\n",
       "      <th>ACTIVE_DAYS_CREDIT_MAX</th>\n",
       "      <th>PREV_NAME_CONTRACT_STATUS_Approved_MEAN</th>\n",
       "      <th>DAYS_LAST_PHONE_CHANGE</th>\n",
       "      <th>REFUSED_DAYS_DECISION_MAX</th>\n",
       "      <th>ACTIVE_DAYS_CREDIT_MEAN</th>\n",
       "      <th>PREV_DAYS_DECISION_MIN</th>\n",
       "      <th>DAYS_ID_PUBLISH</th>\n",
       "      <th>TARGET</th>\n",
       "      <th>SK_ID_CURR</th>\n",
       "    </tr>\n",
       "  </thead>\n",
       "  <tbody>\n",
       "    <tr>\n",
       "      <th>0</th>\n",
       "      <td>0.262949</td>\n",
       "      <td>-606.000000</td>\n",
       "      <td>13.75</td>\n",
       "      <td>-3648.0</td>\n",
       "      <td>1.000000</td>\n",
       "      <td>0.000000</td>\n",
       "      <td>0.018801</td>\n",
       "      <td>0.000000</td>\n",
       "      <td>-103.0</td>\n",
       "      <td>-10.000000</td>\n",
       "      <td>0.5</td>\n",
       "      <td>-476.0</td>\n",
       "      <td>0.40696</td>\n",
       "      <td>10</td>\n",
       "      <td>1.000000</td>\n",
       "      <td>0.000000</td>\n",
       "      <td>NaN</td>\n",
       "      <td>1.000000</td>\n",
       "      <td>-974.500000</td>\n",
       "      <td>-1042.0</td>\n",
       "      <td>-1437.0</td>\n",
       "      <td>0.139376</td>\n",
       "      <td>0.083037</td>\n",
       "      <td>-874.00</td>\n",
       "      <td>-9461</td>\n",
       "      <td>0.25</td>\n",
       "      <td>-103.0</td>\n",
       "      <td>1.000000</td>\n",
       "      <td>-1134.0</td>\n",
       "      <td>NaN</td>\n",
       "      <td>-572.5</td>\n",
       "      <td>-606.0</td>\n",
       "      <td>-2120</td>\n",
       "      <td>1.0</td>\n",
       "      <td>100002</td>\n",
       "    </tr>\n",
       "    <tr>\n",
       "      <th>1</th>\n",
       "      <td>0.622246</td>\n",
       "      <td>-1305.000000</td>\n",
       "      <td>NaN</td>\n",
       "      <td>-1186.0</td>\n",
       "      <td>0.333333</td>\n",
       "      <td>0.000000</td>\n",
       "      <td>0.003541</td>\n",
       "      <td>0.666667</td>\n",
       "      <td>-606.0</td>\n",
       "      <td>-43.785714</td>\n",
       "      <td>0.5</td>\n",
       "      <td>-775.0</td>\n",
       "      <td>NaN</td>\n",
       "      <td>11</td>\n",
       "      <td>0.666667</td>\n",
       "      <td>0.333333</td>\n",
       "      <td>NaN</td>\n",
       "      <td>0.000000</td>\n",
       "      <td>-1665.666667</td>\n",
       "      <td>-606.0</td>\n",
       "      <td>-2586.0</td>\n",
       "      <td>NaN</td>\n",
       "      <td>0.311267</td>\n",
       "      <td>-1400.75</td>\n",
       "      <td>-16765</td>\n",
       "      <td>0.25</td>\n",
       "      <td>-606.0</td>\n",
       "      <td>1.000000</td>\n",
       "      <td>-828.0</td>\n",
       "      <td>NaN</td>\n",
       "      <td>-606.0</td>\n",
       "      <td>-2341.0</td>\n",
       "      <td>-291</td>\n",
       "      <td>0.0</td>\n",
       "      <td>100003</td>\n",
       "    </tr>\n",
       "    <tr>\n",
       "      <th>2</th>\n",
       "      <td>0.555912</td>\n",
       "      <td>-815.000000</td>\n",
       "      <td>NaN</td>\n",
       "      <td>-4260.0</td>\n",
       "      <td>0.000000</td>\n",
       "      <td>0.000000</td>\n",
       "      <td>0.010032</td>\n",
       "      <td>1.000000</td>\n",
       "      <td>-408.0</td>\n",
       "      <td>-25.500000</td>\n",
       "      <td>0.0</td>\n",
       "      <td>-408.0</td>\n",
       "      <td>NaN</td>\n",
       "      <td>9</td>\n",
       "      <td>1.000000</td>\n",
       "      <td>0.000000</td>\n",
       "      <td>NaN</td>\n",
       "      <td>0.000000</td>\n",
       "      <td>-867.000000</td>\n",
       "      <td>NaN</td>\n",
       "      <td>-1326.0</td>\n",
       "      <td>0.729567</td>\n",
       "      <td>NaN</td>\n",
       "      <td>-867.00</td>\n",
       "      <td>-19046</td>\n",
       "      <td>0.00</td>\n",
       "      <td>NaN</td>\n",
       "      <td>1.000000</td>\n",
       "      <td>-815.0</td>\n",
       "      <td>NaN</td>\n",
       "      <td>NaN</td>\n",
       "      <td>-815.0</td>\n",
       "      <td>-2531</td>\n",
       "      <td>0.0</td>\n",
       "      <td>100004</td>\n",
       "    </tr>\n",
       "    <tr>\n",
       "      <th>3</th>\n",
       "      <td>0.650442</td>\n",
       "      <td>-272.444444</td>\n",
       "      <td>NaN</td>\n",
       "      <td>-9833.0</td>\n",
       "      <td>0.222222</td>\n",
       "      <td>0.222222</td>\n",
       "      <td>0.008019</td>\n",
       "      <td>0.444444</td>\n",
       "      <td>NaN</td>\n",
       "      <td>-9.619048</td>\n",
       "      <td>NaN</td>\n",
       "      <td>NaN</td>\n",
       "      <td>NaN</td>\n",
       "      <td>17</td>\n",
       "      <td>0.555556</td>\n",
       "      <td>0.111111</td>\n",
       "      <td>1620000.0</td>\n",
       "      <td>0.555556</td>\n",
       "      <td>NaN</td>\n",
       "      <td>NaN</td>\n",
       "      <td>NaN</td>\n",
       "      <td>NaN</td>\n",
       "      <td>NaN</td>\n",
       "      <td>NaN</td>\n",
       "      <td>-19005</td>\n",
       "      <td>NaN</td>\n",
       "      <td>NaN</td>\n",
       "      <td>0.555556</td>\n",
       "      <td>-617.0</td>\n",
       "      <td>-181.0</td>\n",
       "      <td>NaN</td>\n",
       "      <td>-617.0</td>\n",
       "      <td>-2437</td>\n",
       "      <td>0.0</td>\n",
       "      <td>100006</td>\n",
       "    </tr>\n",
       "    <tr>\n",
       "      <th>4</th>\n",
       "      <td>0.322738</td>\n",
       "      <td>-1222.833333</td>\n",
       "      <td>NaN</td>\n",
       "      <td>-4311.0</td>\n",
       "      <td>0.000000</td>\n",
       "      <td>0.500000</td>\n",
       "      <td>0.028663</td>\n",
       "      <td>0.833333</td>\n",
       "      <td>-1149.0</td>\n",
       "      <td>-33.636364</td>\n",
       "      <td>0.0</td>\n",
       "      <td>-1149.0</td>\n",
       "      <td>NaN</td>\n",
       "      <td>11</td>\n",
       "      <td>0.333333</td>\n",
       "      <td>0.500000</td>\n",
       "      <td>NaN</td>\n",
       "      <td>0.333333</td>\n",
       "      <td>-1149.000000</td>\n",
       "      <td>NaN</td>\n",
       "      <td>-1149.0</td>\n",
       "      <td>NaN</td>\n",
       "      <td>NaN</td>\n",
       "      <td>-1149.00</td>\n",
       "      <td>-19932</td>\n",
       "      <td>0.00</td>\n",
       "      <td>NaN</td>\n",
       "      <td>1.000000</td>\n",
       "      <td>-1106.0</td>\n",
       "      <td>NaN</td>\n",
       "      <td>NaN</td>\n",
       "      <td>-2357.0</td>\n",
       "      <td>-3458</td>\n",
       "      <td>0.0</td>\n",
       "      <td>100007</td>\n",
       "    </tr>\n",
       "  </tbody>\n",
       "</table>\n",
       "</div>"
      ],
      "text/plain": [
       "   EXT_SOURCE_2  PREV_DAYS_DECISION_MEAN  BURO_MONTHS_BALANCE_SIZE_MEAN  \\\n",
       "0      0.262949              -606.000000                          13.75   \n",
       "1      0.622246             -1305.000000                            NaN   \n",
       "2      0.555912              -815.000000                            NaN   \n",
       "3      0.650442              -272.444444                            NaN   \n",
       "4      0.322738             -1222.833333                            NaN   \n",
       "\n",
       "   DAYS_REGISTRATION  PREV_NAME_YIELD_GROUP_low_normal_MEAN  \\\n",
       "0            -3648.0                               1.000000   \n",
       "1            -1186.0                               0.333333   \n",
       "2            -4260.0                               0.000000   \n",
       "3            -9833.0                               0.222222   \n",
       "4            -4311.0                               0.000000   \n",
       "\n",
       "   PREV_NAME_YIELD_GROUP_high_MEAN  REGION_POPULATION_RELATIVE  \\\n",
       "0                         0.000000                    0.018801   \n",
       "1                         0.000000                    0.003541   \n",
       "2                         0.000000                    0.010032   \n",
       "3                         0.222222                    0.008019   \n",
       "4                         0.500000                    0.028663   \n",
       "\n",
       "   PREV_NAME_PAYMENT_TYPE_Cashthroughthebank_MEAN  BURO_DAYS_CREDIT_MAX  \\\n",
       "0                                        0.000000                -103.0   \n",
       "1                                        0.666667                -606.0   \n",
       "2                                        1.000000                -408.0   \n",
       "3                                        0.444444                   NaN   \n",
       "4                                        0.833333               -1149.0   \n",
       "\n",
       "   POS_MONTHS_BALANCE_MEAN  BURO_CREDIT_TYPE_Creditcard_MEAN  \\\n",
       "0               -10.000000                               0.5   \n",
       "1               -43.785714                               0.5   \n",
       "2               -25.500000                               0.0   \n",
       "3                -9.619048                               NaN   \n",
       "4               -33.636364                               0.0   \n",
       "\n",
       "   CLOSED_DAYS_CREDIT_MAX  BURO_STATUS_0_MEAN_MEAN  HOUR_APPR_PROCESS_START  \\\n",
       "0                  -476.0                  0.40696                       10   \n",
       "1                  -775.0                      NaN                       11   \n",
       "2                  -408.0                      NaN                        9   \n",
       "3                     NaN                      NaN                       17   \n",
       "4                 -1149.0                      NaN                       11   \n",
       "\n",
       "   PREV_NAME_PRODUCT_TYPE_XNA_MEAN  \\\n",
       "0                         1.000000   \n",
       "1                         0.666667   \n",
       "2                         1.000000   \n",
       "3                         0.555556   \n",
       "4                         0.333333   \n",
       "\n",
       "   PREV_NAME_SELLER_INDUSTRY_Consumerelectronics_MEAN  \\\n",
       "0                                           0.000000    \n",
       "1                                           0.333333    \n",
       "2                                           0.000000    \n",
       "3                                           0.111111    \n",
       "4                                           0.500000    \n",
       "\n",
       "   CC_AMT_CREDIT_LIMIT_ACTUAL_SUM  PREV_NAME_TYPE_SUITE_nan_MEAN  \\\n",
       "0                             NaN                       1.000000   \n",
       "1                             NaN                       0.000000   \n",
       "2                             NaN                       0.000000   \n",
       "3                       1620000.0                       0.555556   \n",
       "4                             NaN                       0.333333   \n",
       "\n",
       "   CLOSED_DAYS_CREDIT_MEAN  ACTIVE_DAYS_CREDIT_MIN  BURO_DAYS_CREDIT_MIN  \\\n",
       "0              -974.500000                 -1042.0               -1437.0   \n",
       "1             -1665.666667                  -606.0               -2586.0   \n",
       "2              -867.000000                     NaN               -1326.0   \n",
       "3                      NaN                     NaN                   NaN   \n",
       "4             -1149.000000                     NaN               -1149.0   \n",
       "\n",
       "   EXT_SOURCE_3  EXT_SOURCE_1  BURO_DAYS_CREDIT_MEAN  DAYS_BIRTH  \\\n",
       "0      0.139376      0.083037                -874.00       -9461   \n",
       "1           NaN      0.311267               -1400.75      -16765   \n",
       "2      0.729567           NaN                -867.00      -19046   \n",
       "3           NaN           NaN                    NaN      -19005   \n",
       "4           NaN           NaN               -1149.00      -19932   \n",
       "\n",
       "   BURO_CREDIT_ACTIVE_Active_MEAN  ACTIVE_DAYS_CREDIT_MAX  \\\n",
       "0                            0.25                  -103.0   \n",
       "1                            0.25                  -606.0   \n",
       "2                            0.00                     NaN   \n",
       "3                             NaN                     NaN   \n",
       "4                            0.00                     NaN   \n",
       "\n",
       "   PREV_NAME_CONTRACT_STATUS_Approved_MEAN  DAYS_LAST_PHONE_CHANGE  \\\n",
       "0                                 1.000000                 -1134.0   \n",
       "1                                 1.000000                  -828.0   \n",
       "2                                 1.000000                  -815.0   \n",
       "3                                 0.555556                  -617.0   \n",
       "4                                 1.000000                 -1106.0   \n",
       "\n",
       "   REFUSED_DAYS_DECISION_MAX  ACTIVE_DAYS_CREDIT_MEAN  PREV_DAYS_DECISION_MIN  \\\n",
       "0                        NaN                   -572.5                  -606.0   \n",
       "1                        NaN                   -606.0                 -2341.0   \n",
       "2                        NaN                      NaN                  -815.0   \n",
       "3                     -181.0                      NaN                  -617.0   \n",
       "4                        NaN                      NaN                 -2357.0   \n",
       "\n",
       "   DAYS_ID_PUBLISH  TARGET  SK_ID_CURR  \n",
       "0            -2120     1.0      100002  \n",
       "1             -291     0.0      100003  \n",
       "2            -2531     0.0      100004  \n",
       "3            -2437     0.0      100006  \n",
       "4            -3458     0.0      100007  "
      ]
     },
     "execution_count": 8,
     "metadata": {},
     "output_type": "execute_result"
    }
   ],
   "source": [
    "train_df_na.head()"
   ]
  },
  {
   "cell_type": "code",
   "execution_count": 9,
   "id": "4babc863",
   "metadata": {
    "collapsed": true
   },
   "outputs": [
    {
     "name": "stdout",
     "output_type": "stream",
     "text": [
      "<class 'pandas.core.frame.DataFrame'>\n",
      "RangeIndex: 307507 entries, 0 to 307506\n",
      "Data columns (total 35 columns):\n",
      " #   Column                                              Non-Null Count   Dtype  \n",
      "---  ------                                              --------------   -----  \n",
      " 0   EXT_SOURCE_2                                        306847 non-null  float64\n",
      " 1   PREV_DAYS_DECISION_MEAN                             291053 non-null  float64\n",
      " 2   BURO_MONTHS_BALANCE_SIZE_MEAN                       92231 non-null   float64\n",
      " 3   DAYS_REGISTRATION                                   307507 non-null  float64\n",
      " 4   PREV_NAME_YIELD_GROUP_low_normal_MEAN               291053 non-null  float64\n",
      " 5   PREV_NAME_YIELD_GROUP_high_MEAN                     291053 non-null  float64\n",
      " 6   REGION_POPULATION_RELATIVE                          307507 non-null  float64\n",
      " 7   PREV_NAME_PAYMENT_TYPE_Cashthroughthebank_MEAN      291053 non-null  float64\n",
      " 8   BURO_DAYS_CREDIT_MAX                                263487 non-null  float64\n",
      " 9   POS_MONTHS_BALANCE_MEAN                             289440 non-null  float64\n",
      " 10  BURO_CREDIT_TYPE_Creditcard_MEAN                    263487 non-null  float64\n",
      " 11  CLOSED_DAYS_CREDIT_MAX                              230161 non-null  float64\n",
      " 12  BURO_STATUS_0_MEAN_MEAN                             92231 non-null   float64\n",
      " 13  HOUR_APPR_PROCESS_START                             307507 non-null  int64  \n",
      " 14  PREV_NAME_PRODUCT_TYPE_XNA_MEAN                     291053 non-null  float64\n",
      " 15  PREV_NAME_SELLER_INDUSTRY_Consumerelectronics_MEAN  291053 non-null  float64\n",
      " 16  CC_AMT_CREDIT_LIMIT_ACTUAL_SUM                      86905 non-null   float64\n",
      " 17  PREV_NAME_TYPE_SUITE_nan_MEAN                       291053 non-null  float64\n",
      " 18  CLOSED_DAYS_CREDIT_MEAN                             230161 non-null  float64\n",
      " 19  ACTIVE_DAYS_CREDIT_MIN                              217146 non-null  float64\n",
      " 20  BURO_DAYS_CREDIT_MIN                                263487 non-null  float64\n",
      " 21  EXT_SOURCE_3                                        246542 non-null  float64\n",
      " 22  EXT_SOURCE_1                                        134131 non-null  float64\n",
      " 23  BURO_DAYS_CREDIT_MEAN                               263487 non-null  float64\n",
      " 24  DAYS_BIRTH                                          307507 non-null  int64  \n",
      " 25  BURO_CREDIT_ACTIVE_Active_MEAN                      263487 non-null  float64\n",
      " 26  ACTIVE_DAYS_CREDIT_MAX                              217146 non-null  float64\n",
      " 27  PREV_NAME_CONTRACT_STATUS_Approved_MEAN             291053 non-null  float64\n",
      " 28  DAYS_LAST_PHONE_CHANGE                              307506 non-null  float64\n",
      " 29  REFUSED_DAYS_DECISION_MAX                           100290 non-null  float64\n",
      " 30  ACTIVE_DAYS_CREDIT_MEAN                             217146 non-null  float64\n",
      " 31  PREV_DAYS_DECISION_MIN                              291053 non-null  float64\n",
      " 32  DAYS_ID_PUBLISH                                     307507 non-null  int64  \n",
      " 33  TARGET                                              307507 non-null  float64\n",
      " 34  SK_ID_CURR                                          307507 non-null  int64  \n",
      "dtypes: float64(31), int64(4)\n",
      "memory usage: 82.1 MB\n"
     ]
    }
   ],
   "source": [
    "train_df_na.info()"
   ]
  },
  {
   "cell_type": "code",
   "execution_count": 19,
   "id": "569ecb9a",
   "metadata": {},
   "outputs": [],
   "source": [
    "target = 'TARGET'"
   ]
  },
  {
   "cell_type": "code",
   "execution_count": 128,
   "id": "475e5708",
   "metadata": {},
   "outputs": [],
   "source": [
    "X = train_df.loc[:, train_df.columns!=target]\n",
    "Y = train_df.loc[:, train_df.columns==target]"
   ]
  },
  {
   "cell_type": "code",
   "execution_count": 21,
   "id": "e1e5d68b",
   "metadata": {},
   "outputs": [],
   "source": [
    "X_na = train_df_na.loc[:, train_df_na.columns!=target]"
   ]
  },
  {
   "cell_type": "code",
   "execution_count": 129,
   "id": "a9b0936a",
   "metadata": {},
   "outputs": [],
   "source": [
    "X_train, X_valid, Y_train, Y_valid = train_test_split(X, Y, \n",
    "                                                    test_size=0.33, \n",
    "                                                    random_state=42)"
   ]
  },
  {
   "cell_type": "code",
   "execution_count": 23,
   "id": "57cf0fda",
   "metadata": {},
   "outputs": [],
   "source": [
    "X_train_na, X_valid_na, Y_train_na, Y_valid_na = train_test_split(X_na, Y, \n",
    "                                                                test_size=0.33, \n",
    "                                                                random_state=42)"
   ]
  },
  {
   "cell_type": "code",
   "execution_count": 130,
   "id": "79541a80",
   "metadata": {},
   "outputs": [],
   "source": [
    "scaler = StandardScaler()\n",
    "X_train_std = scaler.fit_transform(X_train)\n",
    "X_valid_std = scaler.transform(X_valid)"
   ]
  },
  {
   "cell_type": "code",
   "execution_count": 35,
   "id": "8d3f6055",
   "metadata": {},
   "outputs": [],
   "source": [
    "Y_train = Y_train.values.ravel()\n",
    "#clf = LogisticRegression().fit(X_train_std, Y_train)"
   ]
  },
  {
   "cell_type": "code",
   "execution_count": 152,
   "id": "9d53f3d0",
   "metadata": {},
   "outputs": [],
   "source": [
    "clf = LGBMClassifier( #nthread=4,\n",
    "                        n_estimators=10000,\n",
    "                        learning_rate=0.02,\n",
    "                        num_leaves=34,\n",
    "                        colsample_bytree=0.9497036,\n",
    "                        subsample=0.8715623,\n",
    "                        max_depth=8,\n",
    "                        reg_alpha=0.041545473,\n",
    "                        reg_lambda=0.0735294,\n",
    "                        min_split_gain=0.0222415,\n",
    "                        min_child_weight=39.3259775,\n",
    "                        verbose=-1, )"
   ]
  },
  {
   "cell_type": "markdown",
   "id": "e3ba53fe",
   "metadata": {},
   "source": [
    "# Fonctions utiles"
   ]
  },
  {
   "cell_type": "code",
   "execution_count": 54,
   "id": "85e42e23",
   "metadata": {},
   "outputs": [],
   "source": [
    "def generate_model_report(y_actual, y_predicted):\n",
    "    print(\"Accuracy = {:.3f}\".format(accuracy_score(y_actual, y_predicted)))\n",
    "    print(\"Precision = {:.3f}\".format(precision_score(y_actual, y_predicted)))\n",
    "    print(\"Recall = {:.3f}\".format(recall_score(y_actual, y_predicted)))\n",
    "    print(\"F1 Score = {:.3f}\".format(f1_score(y_actual, y_predicted)))\n",
    "    print(\"Fbeta Score = {:.3f}\".format(fbeta_score(y_actual, y_predicted, beta=3.16)))\n",
    "    pass"
   ]
  },
  {
   "cell_type": "code",
   "execution_count": 58,
   "id": "82008298",
   "metadata": {},
   "outputs": [],
   "source": [
    "def generate_auc_roc_curve(clf, X_test, Y_test):\n",
    "    y_pred_proba = clf.predict_proba(X_test)[:, 1]\n",
    "    fpr, tpr, thresholds = roc_curve(Y_test,  y_pred_proba)\n",
    "    auc = roc_auc_score(Y_test, y_pred_proba)\n",
    "    plt.plot(fpr,tpr,label=\"AUC ROC Curve with Area Under the curve =\"+str(auc))\n",
    "    plt.legend(loc=4)\n",
    "    plt.show()\n",
    "    pass"
   ]
  },
  {
   "cell_type": "markdown",
   "id": "a55bcdb0",
   "metadata": {},
   "source": [
    "# Equilibrer les classes "
   ]
  },
  {
   "cell_type": "code",
   "execution_count": 13,
   "id": "d7883f66",
   "metadata": {},
   "outputs": [
    {
     "name": "stdout",
     "output_type": "stream",
     "text": [
      "0.0    0.91927\n",
      "1.0    0.08073\n",
      "Name: TARGET, dtype: float64\n"
     ]
    },
    {
     "data": {
      "image/png": "[encoded data removed]",
      "text/plain": [
       "<Figure size 432x288 with 1 Axes>"
      ]
     },
     "metadata": {
      "needs_background": "light"
     },
     "output_type": "display_data"
    }
   ],
   "source": [
    "ax = sns.countplot(x='TARGET', data=train_df)\n",
    "print(train_df['TARGET'].value_counts(normalize=True))"
   ]
  },
  {
   "cell_type": "code",
   "execution_count": 153,
   "id": "b9c8f53b",
   "metadata": {},
   "outputs": [
    {
     "data": {
      "text/plain": [
       "LGBMClassifier(colsample_bytree=0.9497036, learning_rate=0.02, max_depth=8,\n",
       "               min_child_weight=39.3259775, min_split_gain=0.0222415,\n",
       "               n_estimators=10000, num_leaves=34, reg_alpha=0.041545473,\n",
       "               reg_lambda=0.0735294, subsample=0.8715623, verbose=-1)"
      ]
     },
     "execution_count": 153,
     "metadata": {},
     "output_type": "execute_result"
    }
   ],
   "source": [
    "clf.fit(X_train_std, Y_train)"
   ]
  },
  {
   "cell_type": "code",
   "execution_count": 154,
   "id": "8a0163d7",
   "metadata": {},
   "outputs": [],
   "source": [
    "Y_valid_pred = clf.predict(X_valid_std)"
   ]
  },
  {
   "cell_type": "code",
   "execution_count": 155,
   "id": "f1b147ae",
   "metadata": {},
   "outputs": [
    {
     "name": "stdout",
     "output_type": "stream",
     "text": [
      "Validation:\n"
     ]
    },
    {
     "data": {
      "text/html": [
       "<div>\n",
       "<style scoped>\n",
       "    .dataframe tbody tr th:only-of-type {\n",
       "        vertical-align: middle;\n",
       "    }\n",
       "\n",
       "    .dataframe tbody tr th {\n",
       "        vertical-align: top;\n",
       "    }\n",
       "\n",
       "    .dataframe thead th {\n",
       "        text-align: right;\n",
       "    }\n",
       "</style>\n",
       "<table border=\"1\" class=\"dataframe\">\n",
       "  <thead>\n",
       "    <tr style=\"text-align: right;\">\n",
       "      <th>Actual</th>\n",
       "      <th>0.0</th>\n",
       "      <th>1.0</th>\n",
       "    </tr>\n",
       "    <tr>\n",
       "      <th>Predicted</th>\n",
       "      <th></th>\n",
       "      <th></th>\n",
       "    </tr>\n",
       "  </thead>\n",
       "  <tbody>\n",
       "    <tr>\n",
       "      <th>0.0</th>\n",
       "      <td>92864</td>\n",
       "      <td>7876</td>\n",
       "    </tr>\n",
       "    <tr>\n",
       "      <th>1.0</th>\n",
       "      <td>444</td>\n",
       "      <td>294</td>\n",
       "    </tr>\n",
       "  </tbody>\n",
       "</table>\n",
       "</div>"
      ],
      "text/plain": [
       "Actual       0.0   1.0\n",
       "Predicted             \n",
       "0.0        92864  7876\n",
       "1.0          444   294"
      ]
     },
     "execution_count": 155,
     "metadata": {},
     "output_type": "execute_result"
    }
   ],
   "source": [
    "print(\"Validation:\")\n",
    "pd.crosstab(Y_valid_pred, Y_valid[target], rownames=['Predicted'], colnames=['Actual'])"
   ]
  },
  {
   "cell_type": "code",
   "execution_count": 156,
   "id": "12eb8465",
   "metadata": {},
   "outputs": [
    {
     "name": "stdout",
     "output_type": "stream",
     "text": [
      "Accuracy = 0.918\n",
      "Precision = 0.398\n",
      "Recall = 0.036\n",
      "F1 Score = 0.066\n",
      "Fbeta Score = 0.039\n"
     ]
    }
   ],
   "source": [
    "generate_model_report(Y_valid, Y_valid_pred)"
   ]
  },
  {
   "cell_type": "code",
   "execution_count": 157,
   "id": "46998c1a",
   "metadata": {},
   "outputs": [
    {
     "data": {
      "image/png": "[encoded data removed]",
      "text/plain": [
       "<Figure size 720x432 with 1 Axes>"
      ]
     },
     "metadata": {},
     "output_type": "display_data"
    }
   ],
   "source": [
    "generate_auc_roc_curve(clf, X_valid_std, Y_valid)"
   ]
  },
  {
   "cell_type": "markdown",
   "id": "2d0bbb6f",
   "metadata": {},
   "source": [
    "## Random undersampling"
   ]
  },
  {
   "cell_type": "code",
   "execution_count": 158,
   "id": "75c52d97",
   "metadata": {},
   "outputs": [
    {
     "name": "stdout",
     "output_type": "stream",
     "text": [
      "11217\n"
     ]
    }
   ],
   "source": [
    "target = 'TARGET'\n",
    "df = pd.DataFrame(X_train_std, columns=X_train.columns)\n",
    "df[target] = Y_train\n",
    "minority_class_len = len(df[df[target] == 1])\n",
    "print(minority_class_len)"
   ]
  },
  {
   "cell_type": "code",
   "execution_count": 159,
   "id": "b424a792",
   "metadata": {},
   "outputs": [],
   "source": [
    "majority_class_indices = df[df[target] == 0].index"
   ]
  },
  {
   "cell_type": "code",
   "execution_count": 160,
   "id": "56d0c820",
   "metadata": {},
   "outputs": [
    {
     "name": "stdout",
     "output_type": "stream",
     "text": [
      "11217\n"
     ]
    }
   ],
   "source": [
    "random_majority_indices = np.random.choice(majority_class_indices,\n",
    "                                           minority_class_len, \n",
    "                                           replace=False)\n",
    "print(len(random_majority_indices))"
   ]
  },
  {
   "cell_type": "code",
   "execution_count": 161,
   "id": "cb7243d4",
   "metadata": {},
   "outputs": [],
   "source": [
    "minority_class_indices = df[df[target] == 1].index"
   ]
  },
  {
   "cell_type": "code",
   "execution_count": 162,
   "id": "dccfc8ab",
   "metadata": {},
   "outputs": [],
   "source": [
    "under_sample_indices = np.concatenate([minority_class_indices,random_majority_indices])"
   ]
  },
  {
   "cell_type": "code",
   "execution_count": 163,
   "id": "2e679a4d",
   "metadata": {},
   "outputs": [],
   "source": [
    "under_sample = df.loc[under_sample_indices]"
   ]
  },
  {
   "cell_type": "code",
   "execution_count": 164,
   "id": "862f8b6c",
   "metadata": {},
   "outputs": [
    {
     "data": {
      "text/plain": [
       "1.0    11217\n",
       "0.0    11217\n",
       "Name: TARGET, dtype: int64"
      ]
     },
     "execution_count": 164,
     "metadata": {},
     "output_type": "execute_result"
    }
   ],
   "source": [
    "under_sample[target].value_counts()"
   ]
  },
  {
   "cell_type": "code",
   "execution_count": 165,
   "id": "c12052ba",
   "metadata": {},
   "outputs": [],
   "source": [
    "X_train_std_us = under_sample.loc[:, df.columns!=target]\n",
    "Y_train_us = under_sample.loc[:, df.columns==target]\n",
    "\n",
    "clf_us = clf.fit(X_train_std_us, Y_train_us)\n",
    "Y_valid_us_pred = clf_us.predict(X_valid_std)"
   ]
  },
  {
   "cell_type": "code",
   "execution_count": 166,
   "id": "01ffb2d5",
   "metadata": {},
   "outputs": [
    {
     "name": "stdout",
     "output_type": "stream",
     "text": [
      "Validation:\n"
     ]
    },
    {
     "data": {
      "text/html": [
       "<div>\n",
       "<style scoped>\n",
       "    .dataframe tbody tr th:only-of-type {\n",
       "        vertical-align: middle;\n",
       "    }\n",
       "\n",
       "    .dataframe tbody tr th {\n",
       "        vertical-align: top;\n",
       "    }\n",
       "\n",
       "    .dataframe thead th {\n",
       "        text-align: right;\n",
       "    }\n",
       "</style>\n",
       "<table border=\"1\" class=\"dataframe\">\n",
       "  <thead>\n",
       "    <tr style=\"text-align: right;\">\n",
       "      <th>Actual</th>\n",
       "      <th>0.0</th>\n",
       "      <th>1.0</th>\n",
       "    </tr>\n",
       "    <tr>\n",
       "      <th>Predicted</th>\n",
       "      <th></th>\n",
       "      <th></th>\n",
       "    </tr>\n",
       "  </thead>\n",
       "  <tbody>\n",
       "    <tr>\n",
       "      <th>0.0</th>\n",
       "      <td>46741</td>\n",
       "      <td>4247</td>\n",
       "    </tr>\n",
       "    <tr>\n",
       "      <th>1.0</th>\n",
       "      <td>46567</td>\n",
       "      <td>3923</td>\n",
       "    </tr>\n",
       "  </tbody>\n",
       "</table>\n",
       "</div>"
      ],
      "text/plain": [
       "Actual       0.0   1.0\n",
       "Predicted             \n",
       "0.0        46741  4247\n",
       "1.0        46567  3923"
      ]
     },
     "execution_count": 166,
     "metadata": {},
     "output_type": "execute_result"
    }
   ],
   "source": [
    "print(\"Validation:\")\n",
    "pd.crosstab(Y_valid_us_pred, Y_valid[target], rownames=['Predicted'], colnames=['Actual'])"
   ]
  },
  {
   "cell_type": "code",
   "execution_count": 167,
   "id": "8c9a6e40",
   "metadata": {},
   "outputs": [
    {
     "name": "stdout",
     "output_type": "stream",
     "text": [
      "Accuracy = 0.499\n",
      "Precision = 0.078\n",
      "Recall = 0.480\n",
      "F1 Score = 0.134\n",
      "Fbeta Score = 0.326\n"
     ]
    }
   ],
   "source": [
    "generate_model_report(Y_valid, Y_valid_us_pred)"
   ]
  },
  {
   "cell_type": "code",
   "execution_count": 168,
   "id": "b803d720",
   "metadata": {},
   "outputs": [
    {
     "data": {
      "image/png": "[encoded data removed]",
      "text/plain": [
       "<Figure size 720x432 with 1 Axes>"
      ]
     },
     "metadata": {},
     "output_type": "display_data"
    }
   ],
   "source": [
    "generate_auc_roc_curve(clf_us, X_valid_std, Y_valid)"
   ]
  },
  {
   "cell_type": "markdown",
   "id": "ca7ae8f9",
   "metadata": {},
   "source": [
    "## class_weight='balanced'"
   ]
  },
  {
   "cell_type": "code",
   "execution_count": 170,
   "id": "3cb04364",
   "metadata": {},
   "outputs": [],
   "source": [
    "clf_cw = LGBMClassifier(\n",
    "                        #nthread=4,\n",
    "                        n_estimators=10000,\n",
    "                        learning_rate=0.02,\n",
    "                        num_leaves=34,\n",
    "                        colsample_bytree=0.9497036,\n",
    "                        subsample=0.8715623,\n",
    "                        max_depth=8,\n",
    "                        reg_alpha=0.041545473,\n",
    "                        reg_lambda=0.0735294,\n",
    "                        min_split_gain=0.0222415,\n",
    "                        min_child_weight=39.3259775,\n",
    "                        verbose=-1, \n",
    "                        class_weight='balanced').fit(X_train_std, Y_train)"
   ]
  },
  {
   "cell_type": "code",
   "execution_count": 171,
   "id": "9e3f4aab",
   "metadata": {},
   "outputs": [],
   "source": [
    "Y_valid_pred = clf_cw.predict(X_valid_std)"
   ]
  },
  {
   "cell_type": "code",
   "execution_count": 172,
   "id": "6fba7b2e",
   "metadata": {},
   "outputs": [
    {
     "name": "stdout",
     "output_type": "stream",
     "text": [
      "Validation:\n"
     ]
    },
    {
     "data": {
      "text/html": [
       "<div>\n",
       "<style scoped>\n",
       "    .dataframe tbody tr th:only-of-type {\n",
       "        vertical-align: middle;\n",
       "    }\n",
       "\n",
       "    .dataframe tbody tr th {\n",
       "        vertical-align: top;\n",
       "    }\n",
       "\n",
       "    .dataframe thead th {\n",
       "        text-align: right;\n",
       "    }\n",
       "</style>\n",
       "<table border=\"1\" class=\"dataframe\">\n",
       "  <thead>\n",
       "    <tr style=\"text-align: right;\">\n",
       "      <th>Actual</th>\n",
       "      <th>0.0</th>\n",
       "      <th>1.0</th>\n",
       "    </tr>\n",
       "    <tr>\n",
       "      <th>Predicted</th>\n",
       "      <th></th>\n",
       "      <th></th>\n",
       "    </tr>\n",
       "  </thead>\n",
       "  <tbody>\n",
       "    <tr>\n",
       "      <th>0.0</th>\n",
       "      <td>81902</td>\n",
       "      <td>5094</td>\n",
       "    </tr>\n",
       "    <tr>\n",
       "      <th>1.0</th>\n",
       "      <td>11406</td>\n",
       "      <td>3076</td>\n",
       "    </tr>\n",
       "  </tbody>\n",
       "</table>\n",
       "</div>"
      ],
      "text/plain": [
       "Actual       0.0   1.0\n",
       "Predicted             \n",
       "0.0        81902  5094\n",
       "1.0        11406  3076"
      ]
     },
     "execution_count": 172,
     "metadata": {},
     "output_type": "execute_result"
    }
   ],
   "source": [
    "print(\"Validation:\")\n",
    "pd.crosstab(Y_valid_pred, Y_valid[target], rownames=['Predicted'], colnames=['Actual'])"
   ]
  },
  {
   "cell_type": "code",
   "execution_count": 173,
   "id": "fa3775d8",
   "metadata": {},
   "outputs": [
    {
     "name": "stdout",
     "output_type": "stream",
     "text": [
      "Accuracy = 0.837\n",
      "Precision = 0.212\n",
      "Recall = 0.376\n",
      "F1 Score = 0.272\n",
      "Fbeta Score = 0.352\n"
     ]
    }
   ],
   "source": [
    "generate_model_report(Y_valid, Y_valid_pred)"
   ]
  },
  {
   "cell_type": "code",
   "execution_count": 174,
   "id": "e5aaa37d",
   "metadata": {},
   "outputs": [
    {
     "data": {
      "image/png": "[encoded data removed]",
      "text/plain": [
       "<Figure size 720x432 with 1 Axes>"
      ]
     },
     "metadata": {},
     "output_type": "display_data"
    }
   ],
   "source": [
    "generate_auc_roc_curve(clf_cw, X_valid_std, Y_valid)"
   ]
  },
  {
   "cell_type": "code",
   "execution_count": 73,
   "id": "4e8235b4",
   "metadata": {},
   "outputs": [
    {
     "name": "stdout",
     "output_type": "stream",
     "text": [
      "Best parameters : {'class_weight': {0: 0.05, 1: 0.95}}\n"
     ]
    }
   ],
   "source": [
    "# Define fbeta scorer with beta=3.16\n",
    "scorer = make_scorer(fbeta_score, beta=3.16)\n",
    "\n",
    "weights = np.linspace(0.05, 0.95, 20)\n",
    "gsc = GridSearchCV(\n",
    "    estimator=LGBMClassifier(\n",
    "                        #nthread=4,\n",
    "                        n_estimators=10000,\n",
    "                        learning_rate=0.02,\n",
    "                        num_leaves=34,\n",
    "                        colsample_bytree=0.9497036,\n",
    "                        subsample=0.8715623,\n",
    "                        max_depth=8,\n",
    "                        reg_alpha=0.041545473,\n",
    "                        reg_lambda=0.0735294,\n",
    "                        min_split_gain=0.0222415,\n",
    "                        min_child_weight=39.3259775,\n",
    "                        verbose=-1),\n",
    "    param_grid={\n",
    "        'class_weight': [{0: x, 1: 1.0-x} for x in weights]\n",
    "    },\n",
    "    scoring=scorer,\n",
    "    cv=5\n",
    ")\n",
    "\n",
    "grid_result = gsc.fit(X_train, Y_train)\n",
    "print(\"Best parameters : %s\" % grid_result.best_params_)"
   ]
  },
  {
   "cell_type": "code",
   "execution_count": 74,
   "id": "6d63ee8e",
   "metadata": {},
   "outputs": [
    {
     "data": {
      "text/plain": [
       "<AxesSubplot:xlabel='weight'>"
      ]
     },
     "execution_count": 74,
     "metadata": {},
     "output_type": "execute_result"
    },
    {
     "data": {
      "image/png": "[encoded data removed]",
      "text/plain": [
       "<Figure size 720x432 with 1 Axes>"
      ]
     },
     "metadata": {},
     "output_type": "display_data"
    }
   ],
   "source": [
    "data_out = pd.DataFrame({'score': grid_result.cv_results_['mean_test_score'],\n",
    "                       'weight': weights })\n",
    "data_out.plot(x='weight')"
   ]
  },
  {
   "cell_type": "code",
   "execution_count": 76,
   "id": "c8091011",
   "metadata": {},
   "outputs": [],
   "source": [
    "clf = LogisticRegression(**grid_result.best_params_).fit(X_train_std, Y_train)"
   ]
  },
  {
   "cell_type": "code",
   "execution_count": 77,
   "id": "6b034ece",
   "metadata": {},
   "outputs": [],
   "source": [
    "Y_valid_pred = clf.predict(X_valid_std)"
   ]
  },
  {
   "cell_type": "code",
   "execution_count": 78,
   "id": "a8246d17",
   "metadata": {},
   "outputs": [
    {
     "name": "stdout",
     "output_type": "stream",
     "text": [
      "Validation:\n"
     ]
    },
    {
     "data": {
      "text/html": [
       "<div>\n",
       "<style scoped>\n",
       "    .dataframe tbody tr th:only-of-type {\n",
       "        vertical-align: middle;\n",
       "    }\n",
       "\n",
       "    .dataframe tbody tr th {\n",
       "        vertical-align: top;\n",
       "    }\n",
       "\n",
       "    .dataframe thead th {\n",
       "        text-align: right;\n",
       "    }\n",
       "</style>\n",
       "<table border=\"1\" class=\"dataframe\">\n",
       "  <thead>\n",
       "    <tr style=\"text-align: right;\">\n",
       "      <th>Actual</th>\n",
       "      <th>0.0</th>\n",
       "      <th>1.0</th>\n",
       "    </tr>\n",
       "    <tr>\n",
       "      <th>Predicted</th>\n",
       "      <th></th>\n",
       "      <th></th>\n",
       "    </tr>\n",
       "  </thead>\n",
       "  <tbody>\n",
       "    <tr>\n",
       "      <th>0.0</th>\n",
       "      <td>42811</td>\n",
       "      <td>1354</td>\n",
       "    </tr>\n",
       "    <tr>\n",
       "      <th>1.0</th>\n",
       "      <td>50497</td>\n",
       "      <td>6816</td>\n",
       "    </tr>\n",
       "  </tbody>\n",
       "</table>\n",
       "</div>"
      ],
      "text/plain": [
       "Actual       0.0   1.0\n",
       "Predicted             \n",
       "0.0        42811  1354\n",
       "1.0        50497  6816"
      ]
     },
     "execution_count": 78,
     "metadata": {},
     "output_type": "execute_result"
    }
   ],
   "source": [
    "print(\"Validation:\")\n",
    "pd.crosstab(Y_valid_pred, Y_valid[target], rownames=['Predicted'], colnames=['Actual'])"
   ]
  },
  {
   "cell_type": "code",
   "execution_count": 79,
   "id": "8c7ef70e",
   "metadata": {},
   "outputs": [
    {
     "name": "stdout",
     "output_type": "stream",
     "text": [
      "Accuracy = 0.489\n",
      "Precision = 0.119\n",
      "Recall = 0.834\n",
      "F1 Score = 0.208\n",
      "Fbeta Score = 0.539\n"
     ]
    }
   ],
   "source": [
    "generate_model_report(Y_valid, Y_valid_pred)"
   ]
  },
  {
   "cell_type": "code",
   "execution_count": 80,
   "id": "7c7b19ea",
   "metadata": {},
   "outputs": [
    {
     "data": {
      "image/png": "[encoded data removed]",
      "text/plain": [
       "<Figure size 720x432 with 1 Axes>"
      ]
     },
     "metadata": {},
     "output_type": "display_data"
    }
   ],
   "source": [
    "generate_auc_roc_curve(clf, X_valid_std, Y_valid)"
   ]
  },
  {
   "cell_type": "markdown",
   "id": "c5e3e542",
   "metadata": {},
   "source": [
    "## SMOTE: Oversampling"
   ]
  },
  {
   "cell_type": "code",
   "execution_count": 81,
   "id": "011b05fa",
   "metadata": {},
   "outputs": [
    {
     "data": {
      "text/plain": [
       "{0.0: 189374, 1.0: 16655}"
      ]
     },
     "execution_count": 81,
     "metadata": {},
     "output_type": "execute_result"
    }
   ],
   "source": [
    "unique, count = np.unique(Y_train, return_counts=True)\n",
    "Y_train_dict_value_count = { k:v for (k,v) in zip(unique, count)}\n",
    "Y_train_dict_value_count"
   ]
  },
  {
   "cell_type": "code",
   "execution_count": 91,
   "id": "fb7ef2a3",
   "metadata": {},
   "outputs": [],
   "source": [
    "sm = SMOTE(random_state=12)\n",
    "x_train_res, y_train_res = sm.fit_resample(X_train_std, Y_train)"
   ]
  },
  {
   "cell_type": "code",
   "execution_count": 94,
   "id": "5f9c16e4",
   "metadata": {},
   "outputs": [
    {
     "data": {
      "text/plain": [
       "0.0    0.5\n",
       "1.0    0.5\n",
       "dtype: float64"
      ]
     },
     "execution_count": 94,
     "metadata": {},
     "output_type": "execute_result"
    }
   ],
   "source": [
    "pd.Series(y_train_res).value_counts(normalize=True)"
   ]
  },
  {
   "cell_type": "code",
   "execution_count": 175,
   "id": "80021f6d",
   "metadata": {},
   "outputs": [],
   "source": [
    "clf_smote = LGBMClassifier(\n",
    "                        #nthread=4,\n",
    "                        n_estimators=10000,\n",
    "                        learning_rate=0.02,\n",
    "                        num_leaves=34,\n",
    "                        colsample_bytree=0.9497036,\n",
    "                        subsample=0.8715623,\n",
    "                        max_depth=8,\n",
    "                        reg_alpha=0.041545473,\n",
    "                        reg_lambda=0.0735294,\n",
    "                        min_split_gain=0.0222415,\n",
    "                        min_child_weight=39.3259775,\n",
    "                        verbose=-1).fit(x_train_res, y_train_res)"
   ]
  },
  {
   "cell_type": "code",
   "execution_count": 176,
   "id": "b271064f",
   "metadata": {},
   "outputs": [],
   "source": [
    "Y_valid_pred = clf_smote.predict(X_valid_std)"
   ]
  },
  {
   "cell_type": "code",
   "execution_count": 177,
   "id": "aecb7468",
   "metadata": {},
   "outputs": [
    {
     "name": "stdout",
     "output_type": "stream",
     "text": [
      "Validation:\n"
     ]
    },
    {
     "data": {
      "text/html": [
       "<div>\n",
       "<style scoped>\n",
       "    .dataframe tbody tr th:only-of-type {\n",
       "        vertical-align: middle;\n",
       "    }\n",
       "\n",
       "    .dataframe tbody tr th {\n",
       "        vertical-align: top;\n",
       "    }\n",
       "\n",
       "    .dataframe thead th {\n",
       "        text-align: right;\n",
       "    }\n",
       "</style>\n",
       "<table border=\"1\" class=\"dataframe\">\n",
       "  <thead>\n",
       "    <tr style=\"text-align: right;\">\n",
       "      <th>Actual</th>\n",
       "      <th>0.0</th>\n",
       "      <th>1.0</th>\n",
       "    </tr>\n",
       "    <tr>\n",
       "      <th>Predicted</th>\n",
       "      <th></th>\n",
       "      <th></th>\n",
       "    </tr>\n",
       "  </thead>\n",
       "  <tbody>\n",
       "    <tr>\n",
       "      <th>0.0</th>\n",
       "      <td>92554</td>\n",
       "      <td>7763</td>\n",
       "    </tr>\n",
       "    <tr>\n",
       "      <th>1.0</th>\n",
       "      <td>754</td>\n",
       "      <td>407</td>\n",
       "    </tr>\n",
       "  </tbody>\n",
       "</table>\n",
       "</div>"
      ],
      "text/plain": [
       "Actual       0.0   1.0\n",
       "Predicted             \n",
       "0.0        92554  7763\n",
       "1.0          754   407"
      ]
     },
     "execution_count": 177,
     "metadata": {},
     "output_type": "execute_result"
    }
   ],
   "source": [
    "print(\"Validation:\")\n",
    "pd.crosstab(Y_valid_pred, Y_valid[target], rownames=['Predicted'], colnames=['Actual'])"
   ]
  },
  {
   "cell_type": "code",
   "execution_count": 178,
   "id": "416664dc",
   "metadata": {},
   "outputs": [
    {
     "name": "stdout",
     "output_type": "stream",
     "text": [
      "Accuracy = 0.916\n",
      "Precision = 0.351\n",
      "Recall = 0.050\n",
      "F1 Score = 0.087\n",
      "Fbeta Score = 0.054\n"
     ]
    }
   ],
   "source": [
    "generate_model_report(Y_valid, Y_valid_pred)"
   ]
  },
  {
   "cell_type": "code",
   "execution_count": 179,
   "id": "c221516d",
   "metadata": {},
   "outputs": [
    {
     "data": {
      "image/png": "[encoded data removed]",
      "text/plain": [
       "<Figure size 720x432 with 1 Axes>"
      ]
     },
     "metadata": {},
     "output_type": "display_data"
    }
   ],
   "source": [
    "generate_auc_roc_curve(clf_smote, X_valid_std, Y_valid)"
   ]
  },
  {
   "cell_type": "markdown",
   "id": "4d834afc",
   "metadata": {},
   "source": [
    "# Modélisation"
   ]
  },
  {
   "cell_type": "code",
   "execution_count": 149,
   "id": "45f0104c",
   "metadata": {},
   "outputs": [],
   "source": []
  },
  {
   "cell_type": "code",
   "execution_count": null,
   "id": "3b615774",
   "metadata": {},
   "outputs": [],
   "source": []
  }
 ],
 "metadata": {
  "kernelspec": {
   "display_name": "Python 3 (ipykernel)",
   "language": "python",
   "name": "python3"
  },
  "language_info": {
   "codemirror_mode": {
    "name": "ipython",
    "version": 3
   },
   "file_extension": ".py",
   "mimetype": "text/x-python",
   "name": "python",
   "nbconvert_exporter": "python",
   "pygments_lexer": "ipython3",
   "version": "3.9.12"
  },
  "toc": {
   "base_numbering": 1,
   "nav_menu": {},
   "number_sections": true,
   "sideBar": true,
   "skip_h1_title": false,
   "title_cell": "Table of Contents",
   "title_sidebar": "Contents",
   "toc_cell": false,
   "toc_position": {},
   "toc_section_display": true,
   "toc_window_display": true
  },
  "varInspector": {
   "cols": {
    "lenName": 16,
    "lenType": 16,
    "lenVar": 40
   },
   "kernels_config": {
    "python": {
     "delete_cmd_postfix": "",
     "delete_cmd_prefix": "del ",
     "library": "var_list.py",
     "varRefreshCmd": "print(var_dic_list())"
    },
    "r": {
     "delete_cmd_postfix": ") ",
     "delete_cmd_prefix": "rm(",
     "library": "var_list.r",
     "varRefreshCmd": "cat(var_dic_list()) "
    }
   },
   "types_to_exclude": [
    "module",
    "function",
    "builtin_function_or_method",
    "instance",
    "_Feature"
   ],
   "window_display": false
  }
 },
 "nbformat": 4,
 "nbformat_minor": 5
}
